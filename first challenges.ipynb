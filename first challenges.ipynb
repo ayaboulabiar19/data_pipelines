{
 "cells": [
  {
   "cell_type": "code",
   "execution_count": 0,
   "metadata": {
    "application/vnd.databricks.v1+cell": {
     "cellMetadata": {
      "byteLimit": 2048000,
      "rowLimit": 10000
     },
     "inputWidgets": {},
     "nuid": "cbe9221e-0fa1-4600-b1bc-7a682287c1dd",
     "showTitle": false,
     "tableResultSettingsMap": {},
     "title": ""
    }
   },
   "outputs": [],
   "source": [
    "#how to read a data file in spark s\n",
    "df=(spark.read # read \n",
    "    .format(\"csv\") #the data file format is csv \n",
    "    .option(\"header\",\"true\") #first row in the csv file is a header row \n",
    "    .option(\"inferSchema\",\"true\") #and i also want spark to automatically infer the schema \n",
    "    .load(\"/Volumes/test/default/sample/sample.csv\")) #the path of the data \n",
    "    \n",
    "display(df) #display that data frame \n"
   ]
  },
  {
   "cell_type": "code",
   "execution_count": 0,
   "metadata": {
    "application/vnd.databricks.v1+cell": {
     "cellMetadata": {
      "byteLimit": 2048000,
      "rowLimit": 10000
     },
     "inputWidgets": {},
     "nuid": "e50fe383-3238-4c8e-a5ee-5491c40770e2",
     "showTitle": false,
     "tableResultSettingsMap": {},
     "title": ""
    }
   },
   "outputs": [],
   "source": [
    "diamonds_df = spark.read.format(\"csv\")\\\n",
    "    .option(\"header\",\"true\")\\\n",
    "        .option(\"inferSchema\",\"true\")\\\n",
    "            .load(\"/Volumes/test/default/diamonds\") #the path of the data \n",
    "\n",
    "diamonds_df.show(10)    #showed 10 records from the data file         "
   ]
  },
  {
   "cell_type": "code",
   "execution_count": 0,
   "metadata": {
    "application/vnd.databricks.v1+cell": {
     "cellMetadata": {
      "byteLimit": 2048000,
      "rowLimit": 10000
     },
     "inputWidgets": {},
     "nuid": "d4d0851f-19df-4f6a-9c2d-38f2721224f6",
     "showTitle": false,
     "tableResultSettingsMap": {},
     "title": ""
    }
   },
   "outputs": [],
   "source": [
    "#The following requirement is to process this diiamond's dataframe and calculate the average price by color \n",
    "\n",
    "from pyspark.sql.functions import avg \n",
    "results_df = diamonds_df.select(\"color\" , \"price\") \\\n",
    "                         .groupBy(\"color\") \\\n",
    "                          .agg(avg(\"price\")) \\\n",
    "                           .sort(\"color\") \\\n",
    "                               \n",
    "results_df.show()        #show the reslt               \n"
   ]
  },
  {
   "cell_type": "code",
   "execution_count": 0,
   "metadata": {
    "application/vnd.databricks.v1+cell": {
     "cellMetadata": {
      "byteLimit": 2048000,
      "rowLimit": 10000
     },
     "inputWidgets": {},
     "nuid": "af43126c-f937-48b0-b723-048c97f7ff49",
     "showTitle": false,
     "tableResultSettingsMap": {},
     "title": ""
    }
   },
   "outputs": [],
   "source": [
    "display(results_df) #show the reslt into table "
   ]
  },
  {
   "cell_type": "code",
   "execution_count": 0,
   "metadata": {
    "application/vnd.databricks.v1+cell": {
     "cellMetadata": {},
     "inputWidgets": {},
     "nuid": "dbaa9635-0899-4ae3-8d29-532fdafea759",
     "showTitle": false,
     "tableResultSettingsMap": {},
     "title": ""
    }
   },
   "outputs": [],
   "source": [
    "#we will talk about spark dataframes \n",
    "\n",
    "\n",
    "\n"
   ]
  }
 ],
 "metadata": {
  "application/vnd.databricks.v1+notebook": {
   "computePreferences": null,
   "dashboards": [],
   "environmentMetadata": {
    "base_environment": "",
    "environment_version": "4"
   },
   "inputWidgetPreferences": null,
   "language": "python",
   "notebookMetadata": {
    "pythonIndentUnit": 4
   },
   "notebookName": "first challenges",
   "widgets": {}
  },
  "language_info": {
   "name": "python"
  }
 },
 "nbformat": 4,
 "nbformat_minor": 0
}
