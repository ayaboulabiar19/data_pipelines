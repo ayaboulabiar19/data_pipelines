{
 "cells": [
  {
   "cell_type": "code",
   "execution_count": 2,
   "id": "33b0b535",
   "metadata": {},
   "outputs": [
    {
     "name": "stdout",
     "output_type": "stream",
     "text": [
      "Requirement already satisfied: pandas in c:\\users\\ideal info\\appdata\\local\\packages\\pythonsoftwarefoundation.python.3.9_qbz5n2kfra8p0\\localcache\\local-packages\\python39\\site-packages (2.3.1)\n",
      "Requirement already satisfied: python-dateutil>=2.8.2 in c:\\users\\ideal info\\appdata\\local\\packages\\pythonsoftwarefoundation.python.3.9_qbz5n2kfra8p0\\localcache\\local-packages\\python39\\site-packages (from pandas) (2.9.0.post0)\n",
      "Requirement already satisfied: tzdata>=2022.7 in c:\\users\\ideal info\\appdata\\local\\packages\\pythonsoftwarefoundation.python.3.9_qbz5n2kfra8p0\\localcache\\local-packages\\python39\\site-packages (from pandas) (2025.2)\n",
      "Requirement already satisfied: pytz>=2020.1 in c:\\users\\ideal info\\appdata\\local\\packages\\pythonsoftwarefoundation.python.3.9_qbz5n2kfra8p0\\localcache\\local-packages\\python39\\site-packages (from pandas) (2025.2)\n",
      "Requirement already satisfied: numpy>=1.22.4 in c:\\users\\ideal info\\appdata\\local\\packages\\pythonsoftwarefoundation.python.3.9_qbz5n2kfra8p0\\localcache\\local-packages\\python39\\site-packages (from pandas) (2.0.2)\n",
      "Requirement already satisfied: six>=1.5 in c:\\users\\ideal info\\appdata\\local\\packages\\pythonsoftwarefoundation.python.3.9_qbz5n2kfra8p0\\localcache\\local-packages\\python39\\site-packages (from python-dateutil>=2.8.2->pandas) (1.17.0)\n"
     ]
    },
    {
     "name": "stderr",
     "output_type": "stream",
     "text": [
      "WARNING: You are using pip version 22.0.4; however, version 25.1.1 is available.\n",
      "You should consider upgrading via the 'C:\\Users\\IDEAL INFO\\AppData\\Local\\Microsoft\\WindowsApps\\PythonSoftwareFoundation.Python.3.9_qbz5n2kfra8p0\\python.exe -m pip install --upgrade pip' command.\n"
     ]
    }
   ],
   "source": [
    "!pip install pandas "
   ]
  },
  {
   "cell_type": "code",
   "execution_count": null,
   "id": "8ee5534c",
   "metadata": {},
   "outputs": [],
   "source": [
    "import pandas as pd "
   ]
  },
  {
   "cell_type": "code",
   "execution_count": null,
   "id": "3d4cd073",
   "metadata": {},
   "outputs": [],
   "source": [
    "#a list of number \n",
    "numbers =[1,2,3,4,5] \n"
   ]
  },
  {
   "cell_type": "code",
   "execution_count": null,
   "id": "07413f28",
   "metadata": {},
   "outputs": [
    {
     "data": {
      "text/plain": [
       "0    1\n",
       "1    2\n",
       "2    3\n",
       "3    4\n",
       "4    5\n",
       "dtype: int64"
      ]
     },
     "execution_count": 7,
     "metadata": {},
     "output_type": "execute_result"
    }
   ],
   "source": [
    "#create a series from the list . \n",
    "# series is a list with an index .   \n",
    "#dtype: return the type of data our series is .\n",
    "# our index is going to start at 0\n",
    "pd.Series(numbers)"
   ]
  },
  {
   "cell_type": "code",
   "execution_count": 15,
   "id": "7ec96723",
   "metadata": {},
   "outputs": [],
   "source": [
    "#create a lis of char \n",
    "# we create this object , we can now enter it as a data point .\n",
    "letters =[\"a\",\"b\",\"c\",\"d\",\"e\"]"
   ]
  },
  {
   "cell_type": "code",
   "execution_count": null,
   "id": "a5e5033f",
   "metadata": {},
   "outputs": [
    {
     "data": {
      "text/plain": [
       "1    a\n",
       "2    b\n",
       "3    c\n",
       "4    d\n",
       "5    e\n",
       "dtype: object"
      ]
     },
     "execution_count": 16,
     "metadata": {},
     "output_type": "execute_result"
    }
   ],
   "source": [
    "# we have the letters as the data , and for the index we can insert the numbers. \n",
    "#we will have the data type as object since strings are considered objects .\n",
    "# our index is going to start at 1 \n",
    "#letters and numbers should be same lengths .\n",
    "pd.Series(data=letters, index=numbers)"
   ]
  },
  {
   "cell_type": "code",
   "execution_count": null,
   "id": "a8410d44",
   "metadata": {},
   "outputs": [
    {
     "data": {
      "text/plain": [
       "letter1     a\n",
       "letter2     b\n",
       "letter3     c\n",
       "letter4     d\n",
       "letter5     e\n",
       "dtype: object"
      ]
     },
     "execution_count": 19,
     "metadata": {},
     "output_type": "execute_result"
    }
   ],
   "source": [
    "#the type of data is object \n",
    "# i created an index with my personal labels , that will works as an index \n",
    "pd.Series(data=letters, index=['letter1 ','letter2' ,'letter3','letter4','letter5'])"
   ]
  },
  {
   "cell_type": "code",
   "execution_count": 20,
   "id": "bc9ccd5f",
   "metadata": {},
   "outputs": [],
   "source": [
    "# i created a dictionary of data \n",
    "data ={'name':'Luigi', 'age':26 , 'work':'employed'}\n"
   ]
  },
  {
   "cell_type": "code",
   "execution_count": 21,
   "id": "c8b33f6d",
   "metadata": {},
   "outputs": [
    {
     "data": {
      "text/plain": [
       "name       Luigi\n",
       "age           26\n",
       "work    employed\n",
       "dtype: object"
      ]
     },
     "execution_count": 21,
     "metadata": {},
     "output_type": "execute_result"
    }
   ],
   "source": [
    "pd.Series(data=data) "
   ]
  },
  {
   "cell_type": "code",
   "execution_count": 22,
   "id": "e86a12d1",
   "metadata": {},
   "outputs": [],
   "source": [
    "numbers=[1,2,3,4,5] #  a list of numbers \n",
    "letters=['a','b','c','d','e'] # a list of letters \n"
   ]
  },
  {
   "cell_type": "code",
   "execution_count": null,
   "id": "4680d169",
   "metadata": {},
   "outputs": [
    {
     "data": {
      "text/plain": [
       "0    1\n",
       "1    2\n",
       "2    3\n",
       "3    4\n",
       "4    5\n",
       "dtype: int64"
      ]
     },
     "execution_count": 23,
     "metadata": {},
     "output_type": "execute_result"
    }
   ],
   "source": [
    "# create a series  of number (list indexed )\n",
    "# the data type is integer \n",
    "number_series =pd.Series(numbers)\n",
    "number_series "
   ]
  },
  {
   "cell_type": "code",
   "execution_count": null,
   "id": "b2a7ab20",
   "metadata": {},
   "outputs": [
    {
     "data": {
      "text/plain": [
       "0    a\n",
       "1    b\n",
       "2    c\n",
       "3    d\n",
       "4    e\n",
       "dtype: object"
      ]
     },
     "execution_count": 25,
     "metadata": {},
     "output_type": "execute_result"
    }
   ],
   "source": [
    "# create a series  of number (list indexed )\n",
    "# the data type is object \n",
    "letter_series=pd.Series(letters)\n",
    "letter_series #variable "
   ]
  },
  {
   "cell_type": "code",
   "execution_count": null,
   "id": "cd7fdd11",
   "metadata": {},
   "outputs": [
    {
     "data": {
      "text/plain": [
       "dtype('int64')"
      ]
     },
     "execution_count": 27,
     "metadata": {},
     "output_type": "execute_result"
    }
   ],
   "source": [
    "# the attribute dtype return the data type of that series  \n",
    "number_series.dtype "
   ]
  },
  {
   "cell_type": "code",
   "execution_count": null,
   "id": "43cb8f6a",
   "metadata": {},
   "outputs": [
    {
     "data": {
      "text/plain": [
       "dtype('O')"
      ]
     },
     "execution_count": 29,
     "metadata": {},
     "output_type": "execute_result"
    }
   ],
   "source": [
    "#the letter_series contains strings \n",
    "# in this step , dtype going to return 'o' which stand for object . \n",
    "letter_series.dtype"
   ]
  },
  {
   "cell_type": "code",
   "execution_count": null,
   "id": "a49fee49",
   "metadata": {},
   "outputs": [
    {
     "data": {
      "text/plain": [
       "array(['a', 'b', 'c', 'd', 'e'], dtype=object)"
      ]
     },
     "execution_count": 31,
     "metadata": {},
     "output_type": "execute_result"
    }
   ],
   "source": [
    "# the attribute .value will return an array of type object and it contains these strings \n",
    "letter_series.values"
   ]
  },
  {
   "cell_type": "code",
   "execution_count": 32,
   "id": "fcca2ec5",
   "metadata": {},
   "outputs": [
    {
     "data": {
      "text/plain": [
       "array([1, 2, 3, 4, 5])"
      ]
     },
     "execution_count": 32,
     "metadata": {},
     "output_type": "execute_result"
    }
   ],
   "source": [
    "number_series.values"
   ]
  },
  {
   "cell_type": "code",
   "execution_count": 35,
   "id": "f32da6f0",
   "metadata": {},
   "outputs": [
    {
     "data": {
      "text/plain": [
       "RangeIndex(start=0, stop=5, step=1)"
      ]
     },
     "execution_count": 35,
     "metadata": {},
     "output_type": "execute_result"
    }
   ],
   "source": [
    "#.index returns information about the index \n",
    "#the rslt going to say that this is a range index since it starts from 0 and stops at 5 with a step of one \n",
    "letter_series.index"
   ]
  },
  {
   "cell_type": "code",
   "execution_count": 42,
   "id": "cd633f54",
   "metadata": {},
   "outputs": [
    {
     "data": {
      "text/plain": [
       "1       a\n",
       "2       b\n",
       "3    None\n",
       "dtype: object"
      ]
     },
     "execution_count": 42,
     "metadata": {},
     "output_type": "execute_result"
    }
   ],
   "source": [
    "# in this step we create onether series list which have a none value \n",
    "incomplete_series=pd.Series(data=['a','b',None] , index=[1,2,3])\n",
    "incomplete_series"
   ]
  },
  {
   "cell_type": "code",
   "execution_count": 43,
   "id": "66e5dd83",
   "metadata": {},
   "outputs": [
    {
     "data": {
      "text/plain": [
       "True"
      ]
     },
     "execution_count": 43,
     "metadata": {},
     "output_type": "execute_result"
    }
   ],
   "source": [
    "#the .hasnans attribute check if we have a none value in series list or no \n",
    "# if we have , will return true \n",
    "# if we don't have a none or null value will receive false \n",
    "\n",
    "incomplete_series.hasnans\n"
   ]
  },
  {
   "cell_type": "code",
   "execution_count": null,
   "id": "c93ace52",
   "metadata": {},
   "outputs": [
    {
     "data": {
      "text/plain": [
       "(5,)"
      ]
     },
     "execution_count": 45,
     "metadata": {},
     "output_type": "execute_result"
    }
   ],
   "source": [
    "#.shape return the shape of series as a tuple (5 lines,1 column) , and usually we used with dataframes\n",
    "# we got (5,) because it only has one column\n",
    "number_series.shape"
   ]
  },
  {
   "cell_type": "code",
   "execution_count": null,
   "id": "6ba0df8e",
   "metadata": {},
   "outputs": [
    {
     "data": {
      "text/plain": [
       "5"
      ]
     },
     "execution_count": 47,
     "metadata": {},
     "output_type": "execute_result"
    }
   ],
   "source": [
    "# .size return the size of the series \n",
    "#since it contains 5 elements, it's going to return 5 \n",
    "number_series.size \n"
   ]
  },
  {
   "cell_type": "code",
   "execution_count": 50,
   "id": "57ea560f",
   "metadata": {},
   "outputs": [
    {
     "data": {
      "text/plain": [
       "5"
      ]
     },
     "execution_count": 50,
     "metadata": {},
     "output_type": "execute_result"
    }
   ],
   "source": [
    "#we need to know the size of letter series  \n",
    "letter_series.size\n"
   ]
  },
  {
   "cell_type": "code",
   "execution_count": 52,
   "id": "6f6ec5bf",
   "metadata": {},
   "outputs": [],
   "source": [
    "#we use the methods \n",
    "values= pd.Series(data=[1.5, 2.5, 0.5, None, 4.0, 1.0])\n"
   ]
  },
  {
   "cell_type": "code",
   "execution_count": null,
   "id": "3dba20e6",
   "metadata": {},
   "outputs": [
    {
     "data": {
      "text/plain": [
       "np.float64(4.0)"
      ]
     },
     "execution_count": 54,
     "metadata": {},
     "output_type": "execute_result"
    }
   ],
   "source": [
    "# the method .max() return the maximum value in this list \n",
    "values.max()\n"
   ]
  },
  {
   "cell_type": "code",
   "execution_count": 55,
   "id": "72aa1acd",
   "metadata": {},
   "outputs": [
    {
     "data": {
      "text/plain": [
       "np.float64(0.5)"
      ]
     },
     "execution_count": 55,
     "metadata": {},
     "output_type": "execute_result"
    }
   ],
   "source": [
    "# the method .min() return the mainimum value in this list \n",
    "values.min()\n"
   ]
  },
  {
   "cell_type": "code",
   "execution_count": 57,
   "id": "0dc0656c",
   "metadata": {},
   "outputs": [
    {
     "data": {
      "text/plain": [
       "np.float64(9.5)"
      ]
     },
     "execution_count": 57,
     "metadata": {},
     "output_type": "execute_result"
    }
   ],
   "source": [
    "# the method .sum() return the sum of  this values \n",
    "values.sum()\n"
   ]
  },
  {
   "cell_type": "code",
   "execution_count": 58,
   "id": "916cb43b",
   "metadata": {},
   "outputs": [
    {
     "data": {
      "text/plain": [
       "np.float64(1.9)"
      ]
     },
     "execution_count": 58,
     "metadata": {},
     "output_type": "execute_result"
    }
   ],
   "source": [
    " # the method .mean () return the average  in this list \n",
    "values.mean()\n"
   ]
  },
  {
   "cell_type": "code",
   "execution_count": 61,
   "id": "e46dd856",
   "metadata": {},
   "outputs": [
    {
     "data": {
      "text/plain": [
       "4"
      ]
     },
     "execution_count": 61,
     "metadata": {},
     "output_type": "execute_result"
    }
   ],
   "source": [
    "# .idxmax() get the index of the max value of the series \n",
    "values.idxmax()"
   ]
  },
  {
   "cell_type": "code",
   "execution_count": null,
   "id": "4cb679f7",
   "metadata": {},
   "outputs": [
    {
     "data": {
      "text/plain": [
       "2"
      ]
     },
     "execution_count": 62,
     "metadata": {},
     "output_type": "execute_result"
    }
   ],
   "source": [
    "# .idxmax() get the index of the max value of the series \n",
    "# NB : index start from 0 \n",
    "values.idxmin()"
   ]
  },
  {
   "cell_type": "code",
   "execution_count": null,
   "id": "67706c08",
   "metadata": {},
   "outputs": [
    {
     "data": {
      "text/plain": [
       "0    False\n",
       "1    False\n",
       "2    False\n",
       "3     True\n",
       "4    False\n",
       "5    False\n",
       "dtype: bool"
      ]
     },
     "execution_count": 64,
     "metadata": {},
     "output_type": "execute_result"
    }
   ],
   "source": [
    "# .isnull return  wich value is null \n",
    "# the third value in this series is  null \n",
    "#the type pf result is boolean , True or False \n",
    "values.isnull()"
   ]
  },
  {
   "cell_type": "code",
   "execution_count": null,
   "id": "d7adeef0",
   "metadata": {},
   "outputs": [
    {
     "data": {
      "text/plain": [
       "0    1.5\n",
       "1    2.5\n",
       "2    0.5\n",
       "3    NaN\n",
       "4    4.0\n",
       "5    1.0\n",
       "dtype: float64"
      ]
     },
     "execution_count": 68,
     "metadata": {},
     "output_type": "execute_result"
    }
   ],
   "source": [
    "#.round() each value in the series \n",
    "#round the decimals \n",
    "values.round()\n"
   ]
  },
  {
   "cell_type": "code",
   "execution_count": 85,
   "id": "73f91625",
   "metadata": {},
   "outputs": [
    {
     "data": {
      "text/plain": [
       "0                     Elon Musk\n",
       "1                    Jeff Bezos\n",
       "2      Bernard Arnault & family\n",
       "3                    Bill Gates\n",
       "4                Warren Buffett\n",
       "                 ...           \n",
       "96             Vladimir Potanin\n",
       "97         Harold Hamm & family\n",
       "98                 Sun Piaoyang\n",
       "99           Luo Liguo & family\n",
       "100                   Peter Woo\n",
       "Name: Name, Length: 101, dtype: object"
      ]
     },
     "execution_count": 85,
     "metadata": {},
     "output_type": "execute_result"
    }
   ],
   "source": [
    "#how we read a csv file \n",
    "#riches is a variable and  we're calling a pd.read csv as the first argument is the path to csv file , usecols means which column you need ,\n",
    "#  .squeeze() that's mean convert this column to a series (list indexed) .\n",
    "richest=pd.read_csv(r'C:\\Users\\IDEAL INFO\\Documents\\data_pipelines\\TopRichestInWorld.csv',usecols=['Name']).squeeze()\n",
    "richest"
   ]
  },
  {
   "cell_type": "code",
   "execution_count": 84,
   "id": "37aa9300",
   "metadata": {},
   "outputs": [
    {
     "data": {
      "text/plain": [
       "pandas.core.series.Series"
      ]
     },
     "execution_count": 84,
     "metadata": {},
     "output_type": "execute_result"
    }
   ],
   "source": [
    "type(richest)"
   ]
  },
  {
   "cell_type": "code",
   "execution_count": 90,
   "id": "808ff3a7",
   "metadata": {},
   "outputs": [],
   "source": [
    "#create  another csv files named test.csv\n",
    "#we eliminate the index column with index=False \n",
    "richest.to_csv('test.csv', index=False )"
   ]
  },
  {
   "cell_type": "code",
   "execution_count": 97,
   "id": "6b6231ea",
   "metadata": {},
   "outputs": [
    {
     "data": {
      "text/plain": [
       "0                     Elon Musk\n",
       "1                    Jeff Bezos\n",
       "2      Bernard Arnault & family\n",
       "3                    Bill Gates\n",
       "4                Warren Buffett\n",
       "                 ...           \n",
       "96             Vladimir Potanin\n",
       "97         Harold Hamm & family\n",
       "98                 Sun Piaoyang\n",
       "99           Luo Liguo & family\n",
       "100                   Peter Woo\n",
       "Name: Name, Length: 101, dtype: object"
      ]
     },
     "execution_count": 97,
     "metadata": {},
     "output_type": "execute_result"
    }
   ],
   "source": [
    "#squeeze() is just to convert to indexed list(series list )\n",
    "name_of_people= pd.read_csv('test.csv').squeeze()\n",
    "name_of_people"
   ]
  },
  {
   "cell_type": "code",
   "execution_count": 99,
   "id": "e76365ec",
   "metadata": {},
   "outputs": [
    {
     "data": {
      "text/plain": [
       "pandas.core.series.Series"
      ]
     },
     "execution_count": 99,
     "metadata": {},
     "output_type": "execute_result"
    }
   ],
   "source": [
    "#we need to know the type of object name_of_people \n",
    "#if we eliminate .squeez() in the last query, we got a dataframe as a type of name_of_people \n",
    "type(name_of_people)"
   ]
  },
  {
   "cell_type": "code",
   "execution_count": null,
   "id": "3a8edbf3",
   "metadata": {},
   "outputs": [
    {
     "data": {
      "text/html": [
       "<div>\n",
       "<style scoped>\n",
       "    .dataframe tbody tr th:only-of-type {\n",
       "        vertical-align: middle;\n",
       "    }\n",
       "\n",
       "    .dataframe tbody tr th {\n",
       "        vertical-align: top;\n",
       "    }\n",
       "\n",
       "    .dataframe thead th {\n",
       "        text-align: right;\n",
       "    }\n",
       "</style>\n",
       "<table border=\"1\" class=\"dataframe\">\n",
       "  <thead>\n",
       "    <tr style=\"text-align: right;\">\n",
       "      <th></th>\n",
       "      <th>Name</th>\n",
       "      <th>NetWorth</th>\n",
       "      <th>Age</th>\n",
       "      <th>Country/Territory</th>\n",
       "      <th>Source</th>\n",
       "      <th>Industry</th>\n",
       "    </tr>\n",
       "  </thead>\n",
       "  <tbody>\n",
       "    <tr>\n",
       "      <th>0</th>\n",
       "      <td>Elon Musk</td>\n",
       "      <td>$219,000,000,000</td>\n",
       "      <td>50</td>\n",
       "      <td>United States</td>\n",
       "      <td>Tesla, SpaceX</td>\n",
       "      <td>Automotive</td>\n",
       "    </tr>\n",
       "    <tr>\n",
       "      <th>1</th>\n",
       "      <td>Jeff Bezos</td>\n",
       "      <td>$171,000,000,000</td>\n",
       "      <td>58</td>\n",
       "      <td>United States</td>\n",
       "      <td>Amazon</td>\n",
       "      <td>Technology</td>\n",
       "    </tr>\n",
       "    <tr>\n",
       "      <th>2</th>\n",
       "      <td>Bernard Arnault &amp; family</td>\n",
       "      <td>$158,000,000,000</td>\n",
       "      <td>73</td>\n",
       "      <td>France</td>\n",
       "      <td>LVMH</td>\n",
       "      <td>Fashion &amp; Retail</td>\n",
       "    </tr>\n",
       "    <tr>\n",
       "      <th>3</th>\n",
       "      <td>Bill Gates</td>\n",
       "      <td>$129,000,000,000</td>\n",
       "      <td>66</td>\n",
       "      <td>United States</td>\n",
       "      <td>Microsoft</td>\n",
       "      <td>Technology</td>\n",
       "    </tr>\n",
       "    <tr>\n",
       "      <th>4</th>\n",
       "      <td>Warren Buffett</td>\n",
       "      <td>$118,000,000,000</td>\n",
       "      <td>91</td>\n",
       "      <td>United States</td>\n",
       "      <td>Berkshire Hathaway</td>\n",
       "      <td>Finance &amp; Investments</td>\n",
       "    </tr>\n",
       "    <tr>\n",
       "      <th>...</th>\n",
       "      <td>...</td>\n",
       "      <td>...</td>\n",
       "      <td>...</td>\n",
       "      <td>...</td>\n",
       "      <td>...</td>\n",
       "      <td>...</td>\n",
       "    </tr>\n",
       "    <tr>\n",
       "      <th>96</th>\n",
       "      <td>Vladimir Potanin</td>\n",
       "      <td>$17,300,000,000</td>\n",
       "      <td>61</td>\n",
       "      <td>Russia</td>\n",
       "      <td>metals</td>\n",
       "      <td>Metals &amp; Mining</td>\n",
       "    </tr>\n",
       "    <tr>\n",
       "      <th>97</th>\n",
       "      <td>Harold Hamm &amp; family</td>\n",
       "      <td>$17,200,000,000</td>\n",
       "      <td>76</td>\n",
       "      <td>United States</td>\n",
       "      <td>oil &amp; gas</td>\n",
       "      <td>Energy</td>\n",
       "    </tr>\n",
       "    <tr>\n",
       "      <th>98</th>\n",
       "      <td>Sun Piaoyang</td>\n",
       "      <td>$17,100,000,000</td>\n",
       "      <td>63</td>\n",
       "      <td>China</td>\n",
       "      <td>pharmaceuticals</td>\n",
       "      <td>Healthcare</td>\n",
       "    </tr>\n",
       "    <tr>\n",
       "      <th>99</th>\n",
       "      <td>Luo Liguo &amp; family</td>\n",
       "      <td>$17,000,000,000</td>\n",
       "      <td>66</td>\n",
       "      <td>China</td>\n",
       "      <td>chemicals</td>\n",
       "      <td>Manufacturing</td>\n",
       "    </tr>\n",
       "    <tr>\n",
       "      <th>100</th>\n",
       "      <td>Peter Woo</td>\n",
       "      <td>$17,000,000,000</td>\n",
       "      <td>75</td>\n",
       "      <td>Hong Kong</td>\n",
       "      <td>real estate</td>\n",
       "      <td>Real Estate</td>\n",
       "    </tr>\n",
       "  </tbody>\n",
       "</table>\n",
       "<p>101 rows × 6 columns</p>\n",
       "</div>"
      ],
      "text/plain": [
       "                         Name          NetWorth  Age Country/Territory  \\\n",
       "0                   Elon Musk  $219,000,000,000   50     United States   \n",
       "1                  Jeff Bezos  $171,000,000,000   58     United States   \n",
       "2    Bernard Arnault & family  $158,000,000,000   73            France   \n",
       "3                  Bill Gates  $129,000,000,000   66     United States   \n",
       "4              Warren Buffett  $118,000,000,000   91     United States   \n",
       "..                        ...               ...  ...               ...   \n",
       "96           Vladimir Potanin   $17,300,000,000   61            Russia   \n",
       "97       Harold Hamm & family   $17,200,000,000   76     United States   \n",
       "98               Sun Piaoyang   $17,100,000,000   63             China   \n",
       "99         Luo Liguo & family   $17,000,000,000   66             China   \n",
       "100                 Peter Woo   $17,000,000,000   75         Hong Kong   \n",
       "\n",
       "                 Source               Industry  \n",
       "0         Tesla, SpaceX             Automotive  \n",
       "1                Amazon             Technology  \n",
       "2                  LVMH       Fashion & Retail  \n",
       "3             Microsoft             Technology  \n",
       "4    Berkshire Hathaway  Finance & Investments  \n",
       "..                  ...                    ...  \n",
       "96               metals        Metals & Mining  \n",
       "97            oil & gas                 Energy  \n",
       "98      pharmaceuticals             Healthcare  \n",
       "99            chemicals          Manufacturing  \n",
       "100         real estate            Real Estate  \n",
       "\n",
       "[101 rows x 6 columns]"
      ]
     },
     "execution_count": 100,
     "metadata": {},
     "output_type": "execute_result"
    }
   ],
   "source": [
    "#read a csv file \n",
    "richest=pd.read_csv(r'C:\\Users\\IDEAL INFO\\Documents\\data_pipelines\\TopRichestInWorld.csv')\n",
    "richest \n"
   ]
  },
  {
   "cell_type": "code",
   "execution_count": null,
   "id": "a8273196",
   "metadata": {},
   "outputs": [
    {
     "data": {
      "text/html": [
       "<div>\n",
       "<style scoped>\n",
       "    .dataframe tbody tr th:only-of-type {\n",
       "        vertical-align: middle;\n",
       "    }\n",
       "\n",
       "    .dataframe tbody tr th {\n",
       "        vertical-align: top;\n",
       "    }\n",
       "\n",
       "    .dataframe thead th {\n",
       "        text-align: right;\n",
       "    }\n",
       "</style>\n",
       "<table border=\"1\" class=\"dataframe\">\n",
       "  <thead>\n",
       "    <tr style=\"text-align: right;\">\n",
       "      <th></th>\n",
       "      <th>Name</th>\n",
       "      <th>NetWorth</th>\n",
       "      <th>Age</th>\n",
       "      <th>Country/Territory</th>\n",
       "      <th>Source</th>\n",
       "      <th>Industry</th>\n",
       "    </tr>\n",
       "  </thead>\n",
       "  <tbody>\n",
       "    <tr>\n",
       "      <th>0</th>\n",
       "      <td>Elon Musk</td>\n",
       "      <td>$219,000,000,000</td>\n",
       "      <td>50</td>\n",
       "      <td>United States</td>\n",
       "      <td>Tesla, SpaceX</td>\n",
       "      <td>Automotive</td>\n",
       "    </tr>\n",
       "    <tr>\n",
       "      <th>1</th>\n",
       "      <td>Jeff Bezos</td>\n",
       "      <td>$171,000,000,000</td>\n",
       "      <td>58</td>\n",
       "      <td>United States</td>\n",
       "      <td>Amazon</td>\n",
       "      <td>Technology</td>\n",
       "    </tr>\n",
       "    <tr>\n",
       "      <th>2</th>\n",
       "      <td>Bernard Arnault &amp; family</td>\n",
       "      <td>$158,000,000,000</td>\n",
       "      <td>73</td>\n",
       "      <td>France</td>\n",
       "      <td>LVMH</td>\n",
       "      <td>Fashion &amp; Retail</td>\n",
       "    </tr>\n",
       "    <tr>\n",
       "      <th>3</th>\n",
       "      <td>Bill Gates</td>\n",
       "      <td>$129,000,000,000</td>\n",
       "      <td>66</td>\n",
       "      <td>United States</td>\n",
       "      <td>Microsoft</td>\n",
       "      <td>Technology</td>\n",
       "    </tr>\n",
       "    <tr>\n",
       "      <th>4</th>\n",
       "      <td>Warren Buffett</td>\n",
       "      <td>$118,000,000,000</td>\n",
       "      <td>91</td>\n",
       "      <td>United States</td>\n",
       "      <td>Berkshire Hathaway</td>\n",
       "      <td>Finance &amp; Investments</td>\n",
       "    </tr>\n",
       "    <tr>\n",
       "      <th>5</th>\n",
       "      <td>Larry Page</td>\n",
       "      <td>$111,000,000,000</td>\n",
       "      <td>49</td>\n",
       "      <td>United States</td>\n",
       "      <td>Google</td>\n",
       "      <td>Technology</td>\n",
       "    </tr>\n",
       "    <tr>\n",
       "      <th>6</th>\n",
       "      <td>Sergey Brin</td>\n",
       "      <td>$107,000,000,000</td>\n",
       "      <td>48</td>\n",
       "      <td>United States</td>\n",
       "      <td>Google</td>\n",
       "      <td>Technology</td>\n",
       "    </tr>\n",
       "    <tr>\n",
       "      <th>7</th>\n",
       "      <td>Larry Ellison</td>\n",
       "      <td>$106,000,000,000</td>\n",
       "      <td>77</td>\n",
       "      <td>United States</td>\n",
       "      <td>software</td>\n",
       "      <td>Technology</td>\n",
       "    </tr>\n",
       "    <tr>\n",
       "      <th>8</th>\n",
       "      <td>Steve Ballmer</td>\n",
       "      <td>$91,400,000,000</td>\n",
       "      <td>66</td>\n",
       "      <td>United States</td>\n",
       "      <td>Microsoft</td>\n",
       "      <td>Technology</td>\n",
       "    </tr>\n",
       "    <tr>\n",
       "      <th>9</th>\n",
       "      <td>Mukesh Ambani</td>\n",
       "      <td>$90,700,000,000</td>\n",
       "      <td>64</td>\n",
       "      <td>India</td>\n",
       "      <td>diversified</td>\n",
       "      <td>Diversified</td>\n",
       "    </tr>\n",
       "  </tbody>\n",
       "</table>\n",
       "</div>"
      ],
      "text/plain": [
       "                       Name          NetWorth  Age Country/Territory  \\\n",
       "0                 Elon Musk  $219,000,000,000   50     United States   \n",
       "1                Jeff Bezos  $171,000,000,000   58     United States   \n",
       "2  Bernard Arnault & family  $158,000,000,000   73            France   \n",
       "3                Bill Gates  $129,000,000,000   66     United States   \n",
       "4            Warren Buffett  $118,000,000,000   91     United States   \n",
       "5                Larry Page  $111,000,000,000   49     United States   \n",
       "6               Sergey Brin  $107,000,000,000   48     United States   \n",
       "7             Larry Ellison  $106,000,000,000   77     United States   \n",
       "8             Steve Ballmer   $91,400,000,000   66     United States   \n",
       "9             Mukesh Ambani   $90,700,000,000   64             India   \n",
       "\n",
       "               Source               Industry  \n",
       "0       Tesla, SpaceX             Automotive  \n",
       "1              Amazon             Technology  \n",
       "2                LVMH       Fashion & Retail  \n",
       "3           Microsoft             Technology  \n",
       "4  Berkshire Hathaway  Finance & Investments  \n",
       "5              Google             Technology  \n",
       "6              Google             Technology  \n",
       "7            software             Technology  \n",
       "8           Microsoft             Technology  \n",
       "9         diversified            Diversified  "
      ]
     },
     "execution_count": 104,
     "metadata": {},
     "output_type": "execute_result"
    }
   ],
   "source": [
    "#variable.head(10) return the 10 first rows (10 excluded )\n",
    "richest.head(10)"
   ]
  },
  {
   "cell_type": "code",
   "execution_count": null,
   "id": "679b5978",
   "metadata": {},
   "outputs": [
    {
     "data": {
      "text/html": [
       "<div>\n",
       "<style scoped>\n",
       "    .dataframe tbody tr th:only-of-type {\n",
       "        vertical-align: middle;\n",
       "    }\n",
       "\n",
       "    .dataframe tbody tr th {\n",
       "        vertical-align: top;\n",
       "    }\n",
       "\n",
       "    .dataframe thead th {\n",
       "        text-align: right;\n",
       "    }\n",
       "</style>\n",
       "<table border=\"1\" class=\"dataframe\">\n",
       "  <thead>\n",
       "    <tr style=\"text-align: right;\">\n",
       "      <th></th>\n",
       "      <th>Name</th>\n",
       "      <th>NetWorth</th>\n",
       "      <th>Age</th>\n",
       "      <th>Country/Territory</th>\n",
       "      <th>Source</th>\n",
       "      <th>Industry</th>\n",
       "    </tr>\n",
       "  </thead>\n",
       "  <tbody>\n",
       "    <tr>\n",
       "      <th>0</th>\n",
       "      <td>Elon Musk</td>\n",
       "      <td>$219,000,000,000</td>\n",
       "      <td>50</td>\n",
       "      <td>United States</td>\n",
       "      <td>Tesla, SpaceX</td>\n",
       "      <td>Automotive</td>\n",
       "    </tr>\n",
       "    <tr>\n",
       "      <th>1</th>\n",
       "      <td>Jeff Bezos</td>\n",
       "      <td>$171,000,000,000</td>\n",
       "      <td>58</td>\n",
       "      <td>United States</td>\n",
       "      <td>Amazon</td>\n",
       "      <td>Technology</td>\n",
       "    </tr>\n",
       "    <tr>\n",
       "      <th>2</th>\n",
       "      <td>Bernard Arnault &amp; family</td>\n",
       "      <td>$158,000,000,000</td>\n",
       "      <td>73</td>\n",
       "      <td>France</td>\n",
       "      <td>LVMH</td>\n",
       "      <td>Fashion &amp; Retail</td>\n",
       "    </tr>\n",
       "    <tr>\n",
       "      <th>3</th>\n",
       "      <td>Bill Gates</td>\n",
       "      <td>$129,000,000,000</td>\n",
       "      <td>66</td>\n",
       "      <td>United States</td>\n",
       "      <td>Microsoft</td>\n",
       "      <td>Technology</td>\n",
       "    </tr>\n",
       "    <tr>\n",
       "      <th>4</th>\n",
       "      <td>Warren Buffett</td>\n",
       "      <td>$118,000,000,000</td>\n",
       "      <td>91</td>\n",
       "      <td>United States</td>\n",
       "      <td>Berkshire Hathaway</td>\n",
       "      <td>Finance &amp; Investments</td>\n",
       "    </tr>\n",
       "    <tr>\n",
       "      <th>...</th>\n",
       "      <td>...</td>\n",
       "      <td>...</td>\n",
       "      <td>...</td>\n",
       "      <td>...</td>\n",
       "      <td>...</td>\n",
       "      <td>...</td>\n",
       "    </tr>\n",
       "    <tr>\n",
       "      <th>86</th>\n",
       "      <td>Vladimir Lisin</td>\n",
       "      <td>$18,400,000,000</td>\n",
       "      <td>65</td>\n",
       "      <td>Russia</td>\n",
       "      <td>steel, transport</td>\n",
       "      <td>Metals &amp; Mining</td>\n",
       "    </tr>\n",
       "    <tr>\n",
       "      <th>87</th>\n",
       "      <td>Fan Hongwei &amp; family</td>\n",
       "      <td>$18,200,000,000</td>\n",
       "      <td>55</td>\n",
       "      <td>China</td>\n",
       "      <td>petrochemicals</td>\n",
       "      <td>Energy</td>\n",
       "    </tr>\n",
       "    <tr>\n",
       "      <th>88</th>\n",
       "      <td>Lakshmi Mittal</td>\n",
       "      <td>$17,900,000,000</td>\n",
       "      <td>71</td>\n",
       "      <td>India</td>\n",
       "      <td>steel</td>\n",
       "      <td>Metals &amp; Mining</td>\n",
       "    </tr>\n",
       "    <tr>\n",
       "      <th>89</th>\n",
       "      <td>Andrew Forrest</td>\n",
       "      <td>$17,800,000,000</td>\n",
       "      <td>60</td>\n",
       "      <td>Australia</td>\n",
       "      <td>mining</td>\n",
       "      <td>Metals &amp; Mining</td>\n",
       "    </tr>\n",
       "    <tr>\n",
       "      <th>90</th>\n",
       "      <td>Jiang Rensheng &amp; family</td>\n",
       "      <td>$17,700,000,000</td>\n",
       "      <td>68</td>\n",
       "      <td>China</td>\n",
       "      <td>vaccines</td>\n",
       "      <td>Healthcare</td>\n",
       "    </tr>\n",
       "  </tbody>\n",
       "</table>\n",
       "<p>91 rows × 6 columns</p>\n",
       "</div>"
      ],
      "text/plain": [
       "                        Name          NetWorth  Age Country/Territory  \\\n",
       "0                  Elon Musk  $219,000,000,000   50     United States   \n",
       "1                 Jeff Bezos  $171,000,000,000   58     United States   \n",
       "2   Bernard Arnault & family  $158,000,000,000   73            France   \n",
       "3                 Bill Gates  $129,000,000,000   66     United States   \n",
       "4             Warren Buffett  $118,000,000,000   91     United States   \n",
       "..                       ...               ...  ...               ...   \n",
       "86            Vladimir Lisin   $18,400,000,000   65            Russia   \n",
       "87      Fan Hongwei & family   $18,200,000,000   55             China   \n",
       "88            Lakshmi Mittal   $17,900,000,000   71             India   \n",
       "89            Andrew Forrest   $17,800,000,000   60         Australia   \n",
       "90   Jiang Rensheng & family   $17,700,000,000   68             China   \n",
       "\n",
       "                Source               Industry  \n",
       "0        Tesla, SpaceX             Automotive  \n",
       "1               Amazon             Technology  \n",
       "2                 LVMH       Fashion & Retail  \n",
       "3            Microsoft             Technology  \n",
       "4   Berkshire Hathaway  Finance & Investments  \n",
       "..                 ...                    ...  \n",
       "86    steel, transport        Metals & Mining  \n",
       "87      petrochemicals                 Energy  \n",
       "88               steel        Metals & Mining  \n",
       "89              mining        Metals & Mining  \n",
       "90            vaccines             Healthcare  \n",
       "\n",
       "[91 rows x 6 columns]"
      ]
     },
     "execution_count": 106,
     "metadata": {},
     "output_type": "execute_result"
    }
   ],
   "source": [
    "\n",
    "\n",
    "#variable.head(-10) , eliminate the 10 final rows : we are missing 10 rows ;\n",
    "richest.head(-10)\n"
   ]
  },
  {
   "cell_type": "code",
   "execution_count": null,
   "id": "3a9dbe17",
   "metadata": {},
   "outputs": [
    {
     "data": {
      "text/html": [
       "<div>\n",
       "<style scoped>\n",
       "    .dataframe tbody tr th:only-of-type {\n",
       "        vertical-align: middle;\n",
       "    }\n",
       "\n",
       "    .dataframe tbody tr th {\n",
       "        vertical-align: top;\n",
       "    }\n",
       "\n",
       "    .dataframe thead th {\n",
       "        text-align: right;\n",
       "    }\n",
       "</style>\n",
       "<table border=\"1\" class=\"dataframe\">\n",
       "  <thead>\n",
       "    <tr style=\"text-align: right;\">\n",
       "      <th></th>\n",
       "      <th>Name</th>\n",
       "      <th>NetWorth</th>\n",
       "      <th>Age</th>\n",
       "      <th>Country/Territory</th>\n",
       "      <th>Source</th>\n",
       "      <th>Industry</th>\n",
       "    </tr>\n",
       "  </thead>\n",
       "  <tbody>\n",
       "    <tr>\n",
       "      <th>91</th>\n",
       "      <td>Savitri Jindal &amp; family</td>\n",
       "      <td>$17,700,000,000</td>\n",
       "      <td>72</td>\n",
       "      <td>India</td>\n",
       "      <td>steel</td>\n",
       "      <td>Metals &amp; Mining</td>\n",
       "    </tr>\n",
       "    <tr>\n",
       "      <th>92</th>\n",
       "      <td>Wang Wenyin</td>\n",
       "      <td>$17,700,000,000</td>\n",
       "      <td>54</td>\n",
       "      <td>China</td>\n",
       "      <td>mining, copper products</td>\n",
       "      <td>Metals &amp; Mining</td>\n",
       "    </tr>\n",
       "    <tr>\n",
       "      <th>93</th>\n",
       "      <td>Li Xiting</td>\n",
       "      <td>$17,600,000,000</td>\n",
       "      <td>71</td>\n",
       "      <td>Singapore</td>\n",
       "      <td>medical devices</td>\n",
       "      <td>Healthcare</td>\n",
       "    </tr>\n",
       "    <tr>\n",
       "      <th>94</th>\n",
       "      <td>Stefan Persson</td>\n",
       "      <td>$17,600,000,000</td>\n",
       "      <td>74</td>\n",
       "      <td>Sweden</td>\n",
       "      <td>H&amp;M</td>\n",
       "      <td>Fashion &amp; Retail</td>\n",
       "    </tr>\n",
       "    <tr>\n",
       "      <th>95</th>\n",
       "      <td>Steve Cohen</td>\n",
       "      <td>$17,400,000,000</td>\n",
       "      <td>65</td>\n",
       "      <td>United States</td>\n",
       "      <td>hedge funds</td>\n",
       "      <td>Finance &amp; Investments</td>\n",
       "    </tr>\n",
       "    <tr>\n",
       "      <th>96</th>\n",
       "      <td>Vladimir Potanin</td>\n",
       "      <td>$17,300,000,000</td>\n",
       "      <td>61</td>\n",
       "      <td>Russia</td>\n",
       "      <td>metals</td>\n",
       "      <td>Metals &amp; Mining</td>\n",
       "    </tr>\n",
       "    <tr>\n",
       "      <th>97</th>\n",
       "      <td>Harold Hamm &amp; family</td>\n",
       "      <td>$17,200,000,000</td>\n",
       "      <td>76</td>\n",
       "      <td>United States</td>\n",
       "      <td>oil &amp; gas</td>\n",
       "      <td>Energy</td>\n",
       "    </tr>\n",
       "    <tr>\n",
       "      <th>98</th>\n",
       "      <td>Sun Piaoyang</td>\n",
       "      <td>$17,100,000,000</td>\n",
       "      <td>63</td>\n",
       "      <td>China</td>\n",
       "      <td>pharmaceuticals</td>\n",
       "      <td>Healthcare</td>\n",
       "    </tr>\n",
       "    <tr>\n",
       "      <th>99</th>\n",
       "      <td>Luo Liguo &amp; family</td>\n",
       "      <td>$17,000,000,000</td>\n",
       "      <td>66</td>\n",
       "      <td>China</td>\n",
       "      <td>chemicals</td>\n",
       "      <td>Manufacturing</td>\n",
       "    </tr>\n",
       "    <tr>\n",
       "      <th>100</th>\n",
       "      <td>Peter Woo</td>\n",
       "      <td>$17,000,000,000</td>\n",
       "      <td>75</td>\n",
       "      <td>Hong Kong</td>\n",
       "      <td>real estate</td>\n",
       "      <td>Real Estate</td>\n",
       "    </tr>\n",
       "  </tbody>\n",
       "</table>\n",
       "</div>"
      ],
      "text/plain": [
       "                        Name         NetWorth  Age Country/Territory  \\\n",
       "91   Savitri Jindal & family  $17,700,000,000   72             India   \n",
       "92               Wang Wenyin  $17,700,000,000   54             China   \n",
       "93                 Li Xiting  $17,600,000,000   71         Singapore   \n",
       "94            Stefan Persson  $17,600,000,000   74            Sweden   \n",
       "95               Steve Cohen  $17,400,000,000   65     United States   \n",
       "96          Vladimir Potanin  $17,300,000,000   61            Russia   \n",
       "97      Harold Hamm & family  $17,200,000,000   76     United States   \n",
       "98              Sun Piaoyang  $17,100,000,000   63             China   \n",
       "99        Luo Liguo & family  $17,000,000,000   66             China   \n",
       "100                Peter Woo  $17,000,000,000   75         Hong Kong   \n",
       "\n",
       "                      Source               Industry  \n",
       "91                     steel        Metals & Mining  \n",
       "92   mining, copper products        Metals & Mining  \n",
       "93           medical devices             Healthcare  \n",
       "94                       H&M       Fashion & Retail  \n",
       "95               hedge funds  Finance & Investments  \n",
       "96                    metals        Metals & Mining  \n",
       "97                 oil & gas                 Energy  \n",
       "98           pharmaceuticals             Healthcare  \n",
       "99                 chemicals          Manufacturing  \n",
       "100              real estate            Real Estate  "
      ]
     },
     "execution_count": 108,
     "metadata": {},
     "output_type": "execute_result"
    }
   ],
   "source": [
    "#.tail(10) : return the last 10 rows from our dataset \n",
    "richest.tail(10)\n"
   ]
  },
  {
   "cell_type": "code",
   "execution_count": 110,
   "id": "864f2e60",
   "metadata": {},
   "outputs": [
    {
     "data": {
      "text/html": [
       "<div>\n",
       "<style scoped>\n",
       "    .dataframe tbody tr th:only-of-type {\n",
       "        vertical-align: middle;\n",
       "    }\n",
       "\n",
       "    .dataframe tbody tr th {\n",
       "        vertical-align: top;\n",
       "    }\n",
       "\n",
       "    .dataframe thead th {\n",
       "        text-align: right;\n",
       "    }\n",
       "</style>\n",
       "<table border=\"1\" class=\"dataframe\">\n",
       "  <thead>\n",
       "    <tr style=\"text-align: right;\">\n",
       "      <th></th>\n",
       "      <th>Name</th>\n",
       "      <th>NetWorth</th>\n",
       "      <th>Age</th>\n",
       "      <th>Country/Territory</th>\n",
       "      <th>Source</th>\n",
       "      <th>Industry</th>\n",
       "    </tr>\n",
       "  </thead>\n",
       "  <tbody>\n",
       "    <tr>\n",
       "      <th>10</th>\n",
       "      <td>Gautam Adani &amp; family</td>\n",
       "      <td>$90,000,000,000</td>\n",
       "      <td>59</td>\n",
       "      <td>India</td>\n",
       "      <td>infrastructure, commodities</td>\n",
       "      <td>Diversified</td>\n",
       "    </tr>\n",
       "    <tr>\n",
       "      <th>11</th>\n",
       "      <td>Michael Bloomberg</td>\n",
       "      <td>$82,000,000,000</td>\n",
       "      <td>80</td>\n",
       "      <td>United States</td>\n",
       "      <td>Bloomberg LP</td>\n",
       "      <td>Media &amp; Entertainment</td>\n",
       "    </tr>\n",
       "    <tr>\n",
       "      <th>12</th>\n",
       "      <td>Carlos Slim Helu &amp; family</td>\n",
       "      <td>$81,200,000,000</td>\n",
       "      <td>82</td>\n",
       "      <td>Mexico</td>\n",
       "      <td>telecom</td>\n",
       "      <td>Telecom</td>\n",
       "    </tr>\n",
       "    <tr>\n",
       "      <th>13</th>\n",
       "      <td>Francoise Bettencourt Meyers &amp; family</td>\n",
       "      <td>$74,800,000,000</td>\n",
       "      <td>68</td>\n",
       "      <td>France</td>\n",
       "      <td>L'Oréal</td>\n",
       "      <td>Fashion &amp; Retail</td>\n",
       "    </tr>\n",
       "    <tr>\n",
       "      <th>14</th>\n",
       "      <td>Mark Zuckerberg</td>\n",
       "      <td>$67,300,000,000</td>\n",
       "      <td>37</td>\n",
       "      <td>United States</td>\n",
       "      <td>Facebook</td>\n",
       "      <td>Technology</td>\n",
       "    </tr>\n",
       "    <tr>\n",
       "      <th>...</th>\n",
       "      <td>...</td>\n",
       "      <td>...</td>\n",
       "      <td>...</td>\n",
       "      <td>...</td>\n",
       "      <td>...</td>\n",
       "      <td>...</td>\n",
       "    </tr>\n",
       "    <tr>\n",
       "      <th>96</th>\n",
       "      <td>Vladimir Potanin</td>\n",
       "      <td>$17,300,000,000</td>\n",
       "      <td>61</td>\n",
       "      <td>Russia</td>\n",
       "      <td>metals</td>\n",
       "      <td>Metals &amp; Mining</td>\n",
       "    </tr>\n",
       "    <tr>\n",
       "      <th>97</th>\n",
       "      <td>Harold Hamm &amp; family</td>\n",
       "      <td>$17,200,000,000</td>\n",
       "      <td>76</td>\n",
       "      <td>United States</td>\n",
       "      <td>oil &amp; gas</td>\n",
       "      <td>Energy</td>\n",
       "    </tr>\n",
       "    <tr>\n",
       "      <th>98</th>\n",
       "      <td>Sun Piaoyang</td>\n",
       "      <td>$17,100,000,000</td>\n",
       "      <td>63</td>\n",
       "      <td>China</td>\n",
       "      <td>pharmaceuticals</td>\n",
       "      <td>Healthcare</td>\n",
       "    </tr>\n",
       "    <tr>\n",
       "      <th>99</th>\n",
       "      <td>Luo Liguo &amp; family</td>\n",
       "      <td>$17,000,000,000</td>\n",
       "      <td>66</td>\n",
       "      <td>China</td>\n",
       "      <td>chemicals</td>\n",
       "      <td>Manufacturing</td>\n",
       "    </tr>\n",
       "    <tr>\n",
       "      <th>100</th>\n",
       "      <td>Peter Woo</td>\n",
       "      <td>$17,000,000,000</td>\n",
       "      <td>75</td>\n",
       "      <td>Hong Kong</td>\n",
       "      <td>real estate</td>\n",
       "      <td>Real Estate</td>\n",
       "    </tr>\n",
       "  </tbody>\n",
       "</table>\n",
       "<p>91 rows × 6 columns</p>\n",
       "</div>"
      ],
      "text/plain": [
       "                                      Name         NetWorth  Age  \\\n",
       "10                   Gautam Adani & family  $90,000,000,000   59   \n",
       "11                       Michael Bloomberg  $82,000,000,000   80   \n",
       "12               Carlos Slim Helu & family  $81,200,000,000   82   \n",
       "13   Francoise Bettencourt Meyers & family  $74,800,000,000   68   \n",
       "14                         Mark Zuckerberg  $67,300,000,000   37   \n",
       "..                                     ...              ...  ...   \n",
       "96                        Vladimir Potanin  $17,300,000,000   61   \n",
       "97                    Harold Hamm & family  $17,200,000,000   76   \n",
       "98                            Sun Piaoyang  $17,100,000,000   63   \n",
       "99                      Luo Liguo & family  $17,000,000,000   66   \n",
       "100                              Peter Woo  $17,000,000,000   75   \n",
       "\n",
       "    Country/Territory                       Source               Industry  \n",
       "10              India  infrastructure, commodities            Diversified  \n",
       "11      United States                 Bloomberg LP  Media & Entertainment  \n",
       "12             Mexico                      telecom                Telecom  \n",
       "13             France                      L'Oréal       Fashion & Retail  \n",
       "14      United States                     Facebook             Technology  \n",
       "..                ...                          ...                    ...  \n",
       "96             Russia                       metals        Metals & Mining  \n",
       "97      United States                    oil & gas                 Energy  \n",
       "98              China              pharmaceuticals             Healthcare  \n",
       "99              China                    chemicals          Manufacturing  \n",
       "100         Hong Kong                  real estate            Real Estate  \n",
       "\n",
       "[91 rows x 6 columns]"
      ]
     },
     "execution_count": 110,
     "metadata": {},
     "output_type": "execute_result"
    }
   ],
   "source": [
    "#.tail(-10) : eliminate the  first 10 rows from our dataset \n",
    "# we exclude the 10 first element \n",
    "richest.tail(-10)\n"
   ]
  },
  {
   "cell_type": "code",
   "execution_count": null,
   "id": "b00b429e",
   "metadata": {},
   "outputs": [
    {
     "data": {
      "text/plain": [
       "0                     Elon Musk\n",
       "1                    Jeff Bezos\n",
       "2      Bernard Arnault & family\n",
       "3                    Bill Gates\n",
       "4                Warren Buffett\n",
       "                 ...           \n",
       "96             Vladimir Potanin\n",
       "97         Harold Hamm & family\n",
       "98                 Sun Piaoyang\n",
       "99           Luo Liguo & family\n",
       "100                   Peter Woo\n",
       "Name: Name, Length: 101, dtype: object"
      ]
     },
     "execution_count": 111,
     "metadata": {},
     "output_type": "execute_result"
    }
   ],
   "source": [
    "#just for reading a csv file and we choice the column of names such as a series \n",
    "richest=pd.read_csv(r'C:\\Users\\IDEAL INFO\\Documents\\data_pipelines\\TopRichestInWorld.csv',usecols=['Name']).squeeze()\n",
    "richest"
   ]
  },
  {
   "cell_type": "code",
   "execution_count": 126,
   "id": "555de802",
   "metadata": {},
   "outputs": [
    {
     "data": {
      "text/plain": [
       "0           Abigail Johnson\n",
       "1          Alain Wertheimer\n",
       "2              Alice Walton\n",
       "3            Amancio Ortega\n",
       "4            Andrew Forrest\n",
       "               ...         \n",
       "96           Warren Buffett\n",
       "97         William Lei Ding\n",
       "98     Yang Huiyan & family\n",
       "99             Zhang Yiming\n",
       "100          Zhong Shanshan\n",
       "Name: Name, Length: 101, dtype: object"
      ]
     },
     "execution_count": 126,
     "metadata": {},
     "output_type": "execute_result"
    }
   ],
   "source": [
    "# is used for dataframes because dataframes have two axes , axis by default =0 , then we choce to sort it ascending order .\n",
    "#kind of algorithme it should use for sorting \n",
    "#na_position : the null values we can placed in last or first \n",
    "# with ignore_index we can eliminate the index for exmpl '74' for the abigail and will be the first with 0 index  \n",
    "richest.sort_values(axis=0,  ascending=True , kind='quicksort' , na_position='last', ignore_index=True )\n"
   ]
  },
  {
   "cell_type": "code",
   "execution_count": 128,
   "id": "10159aa6",
   "metadata": {},
   "outputs": [
    {
     "data": {
      "text/plain": [
       "100          Zhong Shanshan\n",
       "99             Zhang Yiming\n",
       "98     Yang Huiyan & family\n",
       "97         William Lei Ding\n",
       "96           Warren Buffett\n",
       "               ...         \n",
       "4            Andrew Forrest\n",
       "3            Amancio Ortega\n",
       "2              Alice Walton\n",
       "1          Alain Wertheimer\n",
       "0           Abigail Johnson\n",
       "Name: Name, Length: 101, dtype: object"
      ]
     },
     "execution_count": 128,
     "metadata": {},
     "output_type": "execute_result"
    }
   ],
   "source": [
    "#we sort the data from his index in the ascending order \n",
    "richest.sort_index(ascending=False )"
   ]
  },
  {
   "cell_type": "code",
   "execution_count": null,
   "id": "17264d0e",
   "metadata": {},
   "outputs": [
    {
     "data": {
      "text/plain": [
       "0                 Automotive\n",
       "1                 Technology\n",
       "2           Fashion & Retail\n",
       "3                 Technology\n",
       "4      Finance & Investments\n",
       "               ...          \n",
       "96           Metals & Mining\n",
       "97                    Energy\n",
       "98                Healthcare\n",
       "99             Manufacturing\n",
       "100              Real Estate\n",
       "Name: Industry, Length: 101, dtype: object"
      ]
     },
     "execution_count": 130,
     "metadata": {},
     "output_type": "execute_result"
    }
   ],
   "source": [
    "#just for reading a csv file and we choice the column of industry  such as a series \n",
    "richest=pd.read_csv(r'C:\\Users\\IDEAL INFO\\Documents\\data_pipelines\\TopRichestInWorld.csv',usecols=['Industry']).squeeze()\n",
    "richest"
   ]
  },
  {
   "cell_type": "code",
   "execution_count": null,
   "id": "6bfd86fd",
   "metadata": {},
   "outputs": [
    {
     "data": {
      "text/plain": [
       "Industry\n",
       "Fashion & Retail         18\n",
       "Technology               15\n",
       "Finance & Investments    13\n",
       "Metals & Mining           9\n",
       "Food & Beverage           8\n",
       "Automotive                7\n",
       "Diversified               6\n",
       "Manufacturing             5\n",
       "Healthcare                5\n",
       "Media & Entertainment     4\n",
       "Real Estate               3\n",
       "Telecom                   2\n",
       "Logistics                 2\n",
       "Energy                    2\n",
       "Gambling & Casinos        1\n",
       "Service                   1\n",
       "Name: count, dtype: int64"
      ]
     },
     "execution_count": 140,
     "metadata": {},
     "output_type": "execute_result"
    }
   ],
   "source": [
    "#in this step .value_counts() going to count each one of the values in column industry because we have a lot of different industries and \n",
    "#some are repeating , So the most common or the most repeated industry is the fashion & retail, and that occurred 18 times ...\n",
    "#sort=true : from the highest frequency to the lowest frequency \n",
    "#we can use dropona=True , if we have anything not a number , it's going to drop those . \n",
    "richest.value_counts(sort=True)\n",
    "\n",
    "\n"
   ]
  },
  {
   "cell_type": "code",
   "execution_count": null,
   "id": "de001fe5",
   "metadata": {},
   "outputs": [
    {
     "data": {
      "text/plain": [
       "0      50\n",
       "1      58\n",
       "2      73\n",
       "3      66\n",
       "4      91\n",
       "       ..\n",
       "96     61\n",
       "97     76\n",
       "98     63\n",
       "99     66\n",
       "100    75\n",
       "Name: Age, Length: 101, dtype: int64"
      ]
     },
     "execution_count": 141,
     "metadata": {},
     "output_type": "execute_result"
    }
   ],
   "source": [
    "#just for reading a csv file and we choice the column of age such as a series \n",
    "#we have all the ages in our database \n",
    "richest=pd.read_csv(r'C:\\Users\\IDEAL INFO\\Documents\\data_pipelines\\TopRichestInWorld.csv',usecols=['Age']).squeeze()\n",
    "richest"
   ]
  },
  {
   "cell_type": "code",
   "execution_count": 150,
   "id": "7864577d",
   "metadata": {},
   "outputs": [
    {
     "data": {
      "text/plain": [
       "(55.6, 68.4]      33\n",
       "(68.4, 81.2]      27\n",
       "(81.2, 94.0]      19\n",
       "(42.8, 55.6]      17\n",
       "(29.935, 42.8]     5\n",
       "Name: count, dtype: int64"
      ]
     },
     "execution_count": 150,
     "metadata": {},
     "output_type": "execute_result"
    }
   ],
   "source": [
    "#.value_counts(bins=5) that's means we're going to get  five bins back . And essentially it created groups for us . \n",
    "#for exemple there are 5 people within the age group of 29.9 to 42.8 \n",
    "# and we have 17 people in the range of 42.8 to 55.6 ...\n",
    "#but that only works with numerical data \n",
    "\n",
    "richest.value_counts(bins=5)"
   ]
  },
  {
   "cell_type": "code",
   "execution_count": 151,
   "id": "f4f1dfc2",
   "metadata": {},
   "outputs": [
    {
     "data": {
      "text/plain": [
       "0                     Elon Musk\n",
       "1                    Jeff Bezos\n",
       "2      Bernard Arnault & family\n",
       "3                    Bill Gates\n",
       "4                Warren Buffett\n",
       "                 ...           \n",
       "96             Vladimir Potanin\n",
       "97         Harold Hamm & family\n",
       "98                 Sun Piaoyang\n",
       "99           Luo Liguo & family\n",
       "100                   Peter Woo\n",
       "Name: Name, Length: 101, dtype: object"
      ]
     },
     "execution_count": 151,
     "metadata": {},
     "output_type": "execute_result"
    }
   ],
   "source": [
    "#just for reading a csv file and we choice the column of name such as a series \n",
    "#we have all the names  in our database \n",
    "richest=pd.read_csv(r'C:\\Users\\IDEAL INFO\\Documents\\data_pipelines\\TopRichestInWorld.csv',usecols=['Name']).squeeze()\n",
    "richest"
   ]
  },
  {
   "cell_type": "code",
   "execution_count": null,
   "id": "b282e341",
   "metadata": {},
   "outputs": [
    {
     "data": {
      "text/plain": [
       "0                   Elon Musk\n",
       "1                  Jeff Bezos\n",
       "2    Bernard Arnault & family\n",
       "3                  Bill Gates\n",
       "4              Warren Buffett\n",
       "5                  Larry Page\n",
       "6                 Sergey Brin\n",
       "7               Larry Ellison\n",
       "8               Steve Ballmer\n",
       "9               Mukesh Ambani\n",
       "Name: Name, dtype: object"
      ]
     },
     "execution_count": 152,
     "metadata": {},
     "output_type": "execute_result"
    }
   ],
   "source": [
    "#get the first 10 elements(names) \n",
    "richest.head(10)"
   ]
  },
  {
   "cell_type": "code",
   "execution_count": 161,
   "id": "f9a940d8",
   "metadata": {},
   "outputs": [
    {
     "data": {
      "text/plain": [
       "'Gautam Adani & family'"
      ]
     },
     "execution_count": 161,
     "metadata": {},
     "output_type": "execute_result"
    }
   ],
   "source": [
    "#go to access the  element(name) number 10 for exemple .\n",
    "#accessing an element via its exact position (what you need to know) \n",
    "richest[10]"
   ]
  },
  {
   "cell_type": "code",
   "execution_count": 159,
   "id": "421be879",
   "metadata": {},
   "outputs": [
    {
     "data": {
      "text/plain": [
       "1                   Jeff Bezos\n",
       "2     Bernard Arnault & family\n",
       "15                  Jim Walton\n",
       "Name: Name, dtype: object"
      ]
     },
     "execution_count": 159,
     "metadata": {},
     "output_type": "execute_result"
    }
   ],
   "source": [
    "#accessing mulpitle elements with a list of position \n",
    "richest[[1,2,15]]"
   ]
  },
  {
   "cell_type": "code",
   "execution_count": null,
   "id": "c96d7bc5",
   "metadata": {},
   "outputs": [
    {
     "data": {
      "text/plain": [
       "5                Larry Page\n",
       "6               Sergey Brin\n",
       "7             Larry Ellison\n",
       "8             Steve Ballmer\n",
       "9             Mukesh Ambani\n",
       "10    Gautam Adani & family\n",
       "Name: Name, dtype: object"
      ]
     },
     "execution_count": 165,
     "metadata": {},
     "output_type": "execute_result"
    }
   ],
   "source": [
    "#accessing via slicing .\n",
    "#you can select from the position 5 for exemple under the position 11 excluded -> you will receive from the 5 position under the 10 position names \n",
    "richest[5:11]\n"
   ]
  },
  {
   "cell_type": "code",
   "execution_count": null,
   "id": "515b633c",
   "metadata": {},
   "outputs": [
    {
     "data": {
      "text/plain": [
       "0                 Elon Musk\n",
       "5                Larry Page\n",
       "10    Gautam Adani & family\n",
       "15               Jim Walton\n",
       "20             Charles Koch\n",
       "Name: Name, dtype: object"
      ]
     },
     "execution_count": 166,
     "metadata": {},
     "output_type": "execute_result"
    }
   ],
   "source": [
    "#accessing via slicing with a step \n",
    "#you will receive from the position 0 to te position 21 excluded , with 5 step \n",
    "richest[0:21:5]"
   ]
  },
  {
   "cell_type": "code",
   "execution_count": null,
   "id": "174578dd",
   "metadata": {},
   "outputs": [
    {
     "data": {
      "text/plain": [
       "0                   Elon Musk\n",
       "1                  Jeff Bezos\n",
       "2    Bernard Arnault & family\n",
       "3                  Bill Gates\n",
       "4              Warren Buffett\n",
       "5                  Larry Page\n",
       "6                 Sergey Brin\n",
       "7               Larry Ellison\n",
       "8               Steve Ballmer\n",
       "9               Mukesh Ambani\n",
       "Name: Name, dtype: object"
      ]
     },
     "execution_count": 167,
     "metadata": {},
     "output_type": "execute_result"
    }
   ],
   "source": [
    "#accessing evething until 10 (excluded)\n",
    "richest[:10]"
   ]
  },
  {
   "cell_type": "code",
   "execution_count": 170,
   "id": "4833894d",
   "metadata": {},
   "outputs": [
    {
     "data": {
      "text/plain": [
       "3"
      ]
     },
     "execution_count": 170,
     "metadata": {},
     "output_type": "execute_result"
    }
   ],
   "source": [
    "#you muust ceate a list [1,2,3] , and the n [-1] represente , they can get the last element in this list \n",
    "[1,2,3][-1]\n"
   ]
  },
  {
   "cell_type": "code",
   "execution_count": null,
   "id": "bc786c5d",
   "metadata": {},
   "outputs": [
    {
     "data": {
      "text/plain": [
       "100    Peter Woo\n",
       "Name: Name, dtype: object"
      ]
     },
     "execution_count": 172,
     "metadata": {},
     "output_type": "execute_result"
    }
   ],
   "source": [
    "#get the last element (name) \n",
    "# in our database \n",
    "richest[-1:]"
   ]
  },
  {
   "cell_type": "code",
   "execution_count": null,
   "id": "84b72270",
   "metadata": {},
   "outputs": [
    {
     "data": {
      "text/plain": [
       "RangeIndex(start=0, stop=101, step=1)"
      ]
     },
     "execution_count": 174,
     "metadata": {},
     "output_type": "execute_result"
    }
   ],
   "source": [
    "#you  can know how our database is indexed , start from 0 to 101 with 1 step \n",
    "richest.index"
   ]
  },
  {
   "cell_type": "code",
   "execution_count": null,
   "id": "ed29328d",
   "metadata": {},
   "outputs": [
    {
     "data": {
      "text/plain": [
       "Name\n",
       "Elon Musk                   $219,000,000,000\n",
       "Jeff Bezos                  $171,000,000,000\n",
       "Bernard Arnault & family    $158,000,000,000\n",
       "Bill Gates                  $129,000,000,000\n",
       "Warren Buffett              $118,000,000,000\n",
       "                                  ...       \n",
       "Vladimir Potanin             $17,300,000,000\n",
       "Harold Hamm & family         $17,200,000,000\n",
       "Sun Piaoyang                 $17,100,000,000\n",
       "Luo Liguo & family           $17,000,000,000\n",
       "Peter Woo                    $17,000,000,000\n",
       "Name: NetWorth, Length: 101, dtype: object"
      ]
     },
     "execution_count": 177,
     "metadata": {},
     "output_type": "execute_result"
    }
   ],
   "source": [
    "#just for reading a csv file and we choice 2 column , name and networks  such as a series \n",
    "#we're going to have a new series that uses the names as the key and the networth as the values \n",
    "richest=pd.read_csv(r'C:\\Users\\IDEAL INFO\\Documents\\data_pipelines\\TopRichestInWorld.csv',usecols=['Name','NetWorth'], index_col='Name').squeeze()\n",
    "richest"
   ]
  },
  {
   "cell_type": "code",
   "execution_count": 182,
   "id": "9e6f61d9",
   "metadata": {},
   "outputs": [
    {
     "name": "stderr",
     "output_type": "stream",
     "text": [
      "C:\\Users\\IDEAL INFO\\AppData\\Local\\Temp\\ipykernel_22260\\3734245380.py:1: FutureWarning: Series.__getitem__ treating keys as positions is deprecated. In a future version, integer keys will always be treated as labels (consistent with DataFrame behavior). To access a value by position, use `ser.iloc[pos]`\n",
      "  richest[0]\n"
     ]
    },
    {
     "data": {
      "text/plain": [
       "'$219,000,000,000'"
      ]
     },
     "execution_count": 182,
     "metadata": {},
     "output_type": "execute_result"
    }
   ],
   "source": [
    "richest[0]"
   ]
  },
  {
   "cell_type": "code",
   "execution_count": null,
   "id": "75129429",
   "metadata": {},
   "outputs": [
    {
     "data": {
      "text/plain": [
       "'$129,000,000,000'"
      ]
     },
     "execution_count": 181,
     "metadata": {},
     "output_type": "execute_result"
    }
   ],
   "source": [
    "#accessing a single element indexed bill gates , and we got the networth of this index \n",
    "richest['Bill Gates']"
   ]
  },
  {
   "cell_type": "code",
   "execution_count": null,
   "id": "9d473fa9",
   "metadata": {},
   "outputs": [
    {
     "data": {
      "text/plain": [
       "Name\n",
       "Bill Gates        $129,000,000,000\n",
       "Warren Buffett    $118,000,000,000\n",
       "Name: NetWorth, dtype: object"
      ]
     },
     "execution_count": 183,
     "metadata": {},
     "output_type": "execute_result"
    }
   ],
   "source": [
    "#accessing multiple element \n",
    "#accessing to 2 element \n",
    "\n",
    "richest[['Bill Gates','Warren Buffett']]"
   ]
  },
  {
   "cell_type": "code",
   "execution_count": null,
   "id": "645c4412",
   "metadata": {},
   "outputs": [
    {
     "data": {
      "text/plain": [
       "Name\n",
       "Bill Gates        $129,000,000,000\n",
       "Warren Buffett    $118,000,000,000\n",
       "Larry Page        $111,000,000,000\n",
       "Sergey Brin       $107,000,000,000\n",
       "Larry Ellison     $106,000,000,000\n",
       "Steve Ballmer      $91,400,000,000\n",
       "Name: NetWorth, dtype: object"
      ]
     },
     "execution_count": 185,
     "metadata": {},
     "output_type": "execute_result"
    }
   ],
   "source": [
    "#slicing via index \n",
    "#we want to find out what's between Bill Gates and Steve Ballmer \n",
    "richest['Bill Gates':'Steve Ballmer']"
   ]
  },
  {
   "cell_type": "code",
   "execution_count": 187,
   "id": "ef90137b",
   "metadata": {},
   "outputs": [
    {
     "data": {
      "text/plain": [
       "Name\n",
       "Elon Musk     $219,000,000,000\n",
       "Jeff Bezos    $171,000,000,000\n",
       "Name: NetWorth, dtype: object"
      ]
     },
     "execution_count": 187,
     "metadata": {},
     "output_type": "execute_result"
    }
   ],
   "source": [
    "#will still give us 2 elements back Elon and Jeff   \n",
    "richest [0:2]   "
   ]
  },
  {
   "cell_type": "code",
   "execution_count": null,
   "id": "b06f9f01",
   "metadata": {},
   "outputs": [
    {
     "data": {
      "text/plain": [
       "Index(['Elon Musk', 'Jeff Bezos', 'Bernard Arnault & family', 'Bill Gates',\n",
       "       'Warren Buffett', 'Larry Page', 'Sergey Brin', 'Larry Ellison',\n",
       "       'Steve Ballmer', 'Mukesh Ambani',\n",
       "       ...\n",
       "       'Savitri Jindal & family', 'Wang Wenyin', 'Li Xiting', 'Stefan Persson',\n",
       "       'Steve Cohen', 'Vladimir Potanin', 'Harold Hamm & family',\n",
       "       'Sun Piaoyang', 'Luo Liguo & family', 'Peter Woo'],\n",
       "      dtype='object', name='Name', length=101)"
      ]
     },
     "execution_count": 188,
     "metadata": {},
     "output_type": "execute_result"
    }
   ],
   "source": [
    "#.index , give you all the index are used ( much larger indexer are used in this situation is names )\n",
    "richest.index "
   ]
  },
  {
   "cell_type": "code",
   "execution_count": 208,
   "id": "990be05c",
   "metadata": {},
   "outputs": [
    {
     "data": {
      "text/plain": [
       "Name\n",
       "Elon Musk                   50\n",
       "Jeff Bezos                  58\n",
       "Bernard Arnault & family    73\n",
       "Bill Gates                  66\n",
       "Warren Buffett              91\n",
       "                            ..\n",
       "Vladimir Potanin            61\n",
       "Harold Hamm & family        76\n",
       "Sun Piaoyang                63\n",
       "Luo Liguo & family          66\n",
       "Peter Woo                   75\n",
       "Name: Age, Length: 101, dtype: int64"
      ]
     },
     "execution_count": 208,
     "metadata": {},
     "output_type": "execute_result"
    }
   ],
   "source": [
    "richest=pd.read_csv(r'C:\\Users\\IDEAL INFO\\Documents\\data_pipelines\\TopRichestInWorld.csv',usecols=['Name','Age'], index_col='Name').squeeze()\n",
    "richest"
   ]
  },
  {
   "cell_type": "code",
   "execution_count": 194,
   "id": "26a962ed",
   "metadata": {},
   "outputs": [
    {
     "data": {
      "text/plain": [
       "'Lee Shau Kee'"
      ]
     },
     "execution_count": 194,
     "metadata": {},
     "output_type": "execute_result"
    }
   ],
   "source": [
    "#find wich person is the oldest\n",
    "oldest= richest.idxmax() \n",
    "oldest "
   ]
  },
  {
   "cell_type": "code",
   "execution_count": 196,
   "id": "a8f7313b",
   "metadata": {},
   "outputs": [
    {
     "data": {
      "text/plain": [
       "np.int64(94)"
      ]
     },
     "execution_count": 196,
     "metadata": {},
     "output_type": "execute_result"
    }
   ],
   "source": [
    "#how old is he \n",
    "richest[oldest]"
   ]
  },
  {
   "cell_type": "code",
   "execution_count": null,
   "id": "3e79d493",
   "metadata": {},
   "outputs": [
    {
     "data": {
      "text/plain": [
       "Name\n",
       "Lee Shau Kee               94\n",
       "Li Ka-shing                93\n",
       "Warren Buffett             91\n",
       "Rupert Murdoch & family    91\n",
       "Leonard Lauder             89\n",
       "                           ..\n",
       "Yang Huiyan & family       40\n",
       "Guillaume Pousaz           40\n",
       "Zhang Yiming               38\n",
       "Mark Zuckerberg            37\n",
       "Sam Bankman-Fried          30\n",
       "Name: Age, Length: 101, dtype: int64"
      ]
     },
     "execution_count": 220,
     "metadata": {},
     "output_type": "execute_result"
    }
   ],
   "source": [
    "#sor the values from the oldest to youngest age to verify \n",
    "x=richest.sort_values( ascending=False ) \n",
    "x"
   ]
  },
  {
   "cell_type": "code",
   "execution_count": null,
   "id": "0050c149",
   "metadata": {},
   "outputs": [
    {
     "data": {
      "text/plain": [
       "'Sam Bankman-Fried'"
      ]
     },
     "execution_count": 205,
     "metadata": {},
     "output_type": "execute_result"
    }
   ],
   "source": [
    "#which person is the youngest \n",
    "youngest=richest.idxmin()\n",
    "youngest "
   ]
  },
  {
   "cell_type": "code",
   "execution_count": null,
   "id": "f56d7089",
   "metadata": {},
   "outputs": [
    {
     "data": {
      "text/plain": [
       "np.int64(30)"
      ]
     },
     "execution_count": 206,
     "metadata": {},
     "output_type": "execute_result"
    }
   ],
   "source": [
    "# how young is the youngest \n",
    "richest[youngest]"
   ]
  },
  {
   "cell_type": "code",
   "execution_count": null,
   "id": "98c139a8",
   "metadata": {},
   "outputs": [
    {
     "data": {
      "text/plain": [
       "np.float64(67.12)"
      ]
     },
     "execution_count": 224,
     "metadata": {},
     "output_type": "execute_result"
    }
   ],
   "source": [
    "#the AVG age of all ( round it oo 2 decimal places )\n",
    "richest.mean().round(2)"
   ]
  },
  {
   "cell_type": "code",
   "execution_count": 225,
   "id": "8fae0a95",
   "metadata": {},
   "outputs": [],
   "source": [
    "#save the series as a csv file named : sample.csv \n",
    "richest.to_csv('sample.csv')"
   ]
  },
  {
   "cell_type": "code",
   "execution_count": 228,
   "id": "05002a50",
   "metadata": {},
   "outputs": [
    {
     "data": {
      "text/html": [
       "<div>\n",
       "<style scoped>\n",
       "    .dataframe tbody tr th:only-of-type {\n",
       "        vertical-align: middle;\n",
       "    }\n",
       "\n",
       "    .dataframe tbody tr th {\n",
       "        vertical-align: top;\n",
       "    }\n",
       "\n",
       "    .dataframe thead th {\n",
       "        text-align: right;\n",
       "    }\n",
       "</style>\n",
       "<table border=\"1\" class=\"dataframe\">\n",
       "  <thead>\n",
       "    <tr style=\"text-align: right;\">\n",
       "      <th></th>\n",
       "      <th>Name</th>\n",
       "      <th>Age</th>\n",
       "    </tr>\n",
       "  </thead>\n",
       "  <tbody>\n",
       "    <tr>\n",
       "      <th>0</th>\n",
       "      <td>Zhong Shanshan</td>\n",
       "      <td>67</td>\n",
       "    </tr>\n",
       "    <tr>\n",
       "      <th>1</th>\n",
       "      <td>Zhang Yiming</td>\n",
       "      <td>38</td>\n",
       "    </tr>\n",
       "    <tr>\n",
       "      <th>2</th>\n",
       "      <td>Yang Huiyan &amp; family</td>\n",
       "      <td>40</td>\n",
       "    </tr>\n",
       "    <tr>\n",
       "      <th>3</th>\n",
       "      <td>William Lei Ding</td>\n",
       "      <td>50</td>\n",
       "    </tr>\n",
       "    <tr>\n",
       "      <th>4</th>\n",
       "      <td>Warren Buffett</td>\n",
       "      <td>91</td>\n",
       "    </tr>\n",
       "    <tr>\n",
       "      <th>...</th>\n",
       "      <td>...</td>\n",
       "      <td>...</td>\n",
       "    </tr>\n",
       "    <tr>\n",
       "      <th>96</th>\n",
       "      <td>Andrew Forrest</td>\n",
       "      <td>60</td>\n",
       "    </tr>\n",
       "    <tr>\n",
       "      <th>97</th>\n",
       "      <td>Amancio Ortega</td>\n",
       "      <td>86</td>\n",
       "    </tr>\n",
       "    <tr>\n",
       "      <th>98</th>\n",
       "      <td>Alice Walton</td>\n",
       "      <td>72</td>\n",
       "    </tr>\n",
       "    <tr>\n",
       "      <th>99</th>\n",
       "      <td>Alain Wertheimer</td>\n",
       "      <td>73</td>\n",
       "    </tr>\n",
       "    <tr>\n",
       "      <th>100</th>\n",
       "      <td>Abigail Johnson</td>\n",
       "      <td>60</td>\n",
       "    </tr>\n",
       "  </tbody>\n",
       "</table>\n",
       "<p>101 rows × 2 columns</p>\n",
       "</div>"
      ],
      "text/plain": [
       "                     Name  Age\n",
       "0          Zhong Shanshan   67\n",
       "1            Zhang Yiming   38\n",
       "2    Yang Huiyan & family   40\n",
       "3        William Lei Ding   50\n",
       "4          Warren Buffett   91\n",
       "..                    ...  ...\n",
       "96         Andrew Forrest   60\n",
       "97         Amancio Ortega   86\n",
       "98           Alice Walton   72\n",
       "99       Alain Wertheimer   73\n",
       "100       Abigail Johnson   60\n",
       "\n",
       "[101 rows x 2 columns]"
      ]
     },
     "execution_count": 228,
     "metadata": {},
     "output_type": "execute_result"
    }
   ],
   "source": [
    "# read the csv you just saved \n",
    "pd.read_csv('sample.csv')"
   ]
  },
  {
   "cell_type": "code",
   "execution_count": 230,
   "id": "5bbc1f56",
   "metadata": {},
   "outputs": [
    {
     "data": {
      "text/html": [
       "<div>\n",
       "<style scoped>\n",
       "    .dataframe tbody tr th:only-of-type {\n",
       "        vertical-align: middle;\n",
       "    }\n",
       "\n",
       "    .dataframe tbody tr th {\n",
       "        vertical-align: top;\n",
       "    }\n",
       "\n",
       "    .dataframe thead th {\n",
       "        text-align: right;\n",
       "    }\n",
       "</style>\n",
       "<table border=\"1\" class=\"dataframe\">\n",
       "  <thead>\n",
       "    <tr style=\"text-align: right;\">\n",
       "      <th></th>\n",
       "      <th>a</th>\n",
       "      <th>b</th>\n",
       "      <th>c</th>\n",
       "    </tr>\n",
       "  </thead>\n",
       "  <tbody>\n",
       "    <tr>\n",
       "      <th>0</th>\n",
       "      <td>100</td>\n",
       "      <td>400</td>\n",
       "      <td>700</td>\n",
       "    </tr>\n",
       "    <tr>\n",
       "      <th>1</th>\n",
       "      <td>200</td>\n",
       "      <td>500</td>\n",
       "      <td>800</td>\n",
       "    </tr>\n",
       "    <tr>\n",
       "      <th>2</th>\n",
       "      <td>300</td>\n",
       "      <td>600</td>\n",
       "      <td>900</td>\n",
       "    </tr>\n",
       "  </tbody>\n",
       "</table>\n",
       "</div>"
      ],
      "text/plain": [
       "     a    b    c\n",
       "0  100  400  700\n",
       "1  200  500  800\n",
       "2  300  600  900"
      ]
     },
     "execution_count": 230,
     "metadata": {},
     "output_type": "execute_result"
    }
   ],
   "source": [
    "#we create a data \n",
    "#we have 3 elements here and we have some nested lists . We have a disctionary with lists inside\n",
    "#we use dataframe priùarily for efficient and organized handling of tabular data .\n",
    "data={'a':[100,200,300], 'b':[400,500,600],'c':[700,800,900]}\n",
    "df= pd.DataFrame(data=data)\n",
    "df "
   ]
  },
  {
   "cell_type": "code",
   "execution_count": null,
   "id": "92af14e4",
   "metadata": {},
   "outputs": [
    {
     "data": {
      "text/plain": [
       "0    100\n",
       "1    200\n",
       "2    300\n",
       "Name: a, dtype: int64"
      ]
     },
     "execution_count": 231,
     "metadata": {},
     "output_type": "execute_result"
    }
   ],
   "source": [
    "#return to us a series \n",
    "df['a']"
   ]
  },
  {
   "cell_type": "code",
   "execution_count": 236,
   "id": "ccee0f6c",
   "metadata": {},
   "outputs": [
    {
     "data": {
      "text/html": [
       "<div>\n",
       "<style scoped>\n",
       "    .dataframe tbody tr th:only-of-type {\n",
       "        vertical-align: middle;\n",
       "    }\n",
       "\n",
       "    .dataframe tbody tr th {\n",
       "        vertical-align: top;\n",
       "    }\n",
       "\n",
       "    .dataframe thead th {\n",
       "        text-align: right;\n",
       "    }\n",
       "</style>\n",
       "<table border=\"1\" class=\"dataframe\">\n",
       "  <thead>\n",
       "    <tr style=\"text-align: right;\">\n",
       "      <th></th>\n",
       "      <th>a</th>\n",
       "      <th>b</th>\n",
       "      <th>c</th>\n",
       "    </tr>\n",
       "  </thead>\n",
       "  <tbody>\n",
       "    <tr>\n",
       "      <th>First</th>\n",
       "      <td>100</td>\n",
       "      <td>200</td>\n",
       "      <td>300</td>\n",
       "    </tr>\n",
       "    <tr>\n",
       "      <th>second</th>\n",
       "      <td>400</td>\n",
       "      <td>500</td>\n",
       "      <td>600</td>\n",
       "    </tr>\n",
       "    <tr>\n",
       "      <th>Third</th>\n",
       "      <td>700</td>\n",
       "      <td>800</td>\n",
       "      <td>900</td>\n",
       "    </tr>\n",
       "  </tbody>\n",
       "</table>\n",
       "</div>"
      ],
      "text/plain": [
       "          a    b    c\n",
       "First   100  200  300\n",
       "second  400  500  600\n",
       "Third   700  800  900"
      ]
     },
     "execution_count": 236,
     "metadata": {},
     "output_type": "execute_result"
    }
   ],
   "source": [
    "#How to create a dataframe with onether solution , indexed by first, second , third ; and named by a , b and c \n",
    "# a bit more personalized \n",
    "df= pd.DataFrame(data=[[100,200,300] , [400,500,600] , [700,800,900 ]] , \n",
    "                   index =['First','second','Third '] , \n",
    "                   columns=['a','b','c'] )\n",
    "df "
   ]
  },
  {
   "cell_type": "code",
   "execution_count": 235,
   "id": "8e943acf",
   "metadata": {},
   "outputs": [
    {
     "data": {
      "text/plain": [
       "First     100\n",
       "second    400\n",
       "Third     700\n",
       "Name: a, dtype: int64"
      ]
     },
     "execution_count": 235,
     "metadata": {},
     "output_type": "execute_result"
    }
   ],
   "source": [
    "df['a']"
   ]
  },
  {
   "cell_type": "code",
   "execution_count": 239,
   "id": "3c095bae",
   "metadata": {},
   "outputs": [
    {
     "data": {
      "text/plain": [
       "First     300\n",
       "second    600\n",
       "Third     900\n",
       "Name: c, dtype: int64"
      ]
     },
     "execution_count": 239,
     "metadata": {},
     "output_type": "execute_result"
    }
   ],
   "source": [
    "df.c"
   ]
  },
  {
   "cell_type": "code",
   "execution_count": 241,
   "id": "9f79b6be",
   "metadata": {},
   "outputs": [
    {
     "data": {
      "text/html": [
       "<div>\n",
       "<style scoped>\n",
       "    .dataframe tbody tr th:only-of-type {\n",
       "        vertical-align: middle;\n",
       "    }\n",
       "\n",
       "    .dataframe tbody tr th {\n",
       "        vertical-align: top;\n",
       "    }\n",
       "\n",
       "    .dataframe thead th {\n",
       "        text-align: right;\n",
       "    }\n",
       "</style>\n",
       "<table border=\"1\" class=\"dataframe\">\n",
       "  <thead>\n",
       "    <tr style=\"text-align: right;\">\n",
       "      <th></th>\n",
       "      <th>Name</th>\n",
       "      <th>NetWorth</th>\n",
       "      <th>Age</th>\n",
       "      <th>Country/Territory</th>\n",
       "      <th>Source</th>\n",
       "      <th>Industry</th>\n",
       "    </tr>\n",
       "  </thead>\n",
       "  <tbody>\n",
       "    <tr>\n",
       "      <th>0</th>\n",
       "      <td>Elon Musk</td>\n",
       "      <td>$219,000,000,000</td>\n",
       "      <td>50</td>\n",
       "      <td>United States</td>\n",
       "      <td>Tesla, SpaceX</td>\n",
       "      <td>Automotive</td>\n",
       "    </tr>\n",
       "    <tr>\n",
       "      <th>1</th>\n",
       "      <td>Jeff Bezos</td>\n",
       "      <td>$171,000,000,000</td>\n",
       "      <td>58</td>\n",
       "      <td>United States</td>\n",
       "      <td>Amazon</td>\n",
       "      <td>Technology</td>\n",
       "    </tr>\n",
       "    <tr>\n",
       "      <th>2</th>\n",
       "      <td>Bernard Arnault &amp; family</td>\n",
       "      <td>$158,000,000,000</td>\n",
       "      <td>73</td>\n",
       "      <td>France</td>\n",
       "      <td>LVMH</td>\n",
       "      <td>Fashion &amp; Retail</td>\n",
       "    </tr>\n",
       "    <tr>\n",
       "      <th>3</th>\n",
       "      <td>Bill Gates</td>\n",
       "      <td>$129,000,000,000</td>\n",
       "      <td>66</td>\n",
       "      <td>United States</td>\n",
       "      <td>Microsoft</td>\n",
       "      <td>Technology</td>\n",
       "    </tr>\n",
       "    <tr>\n",
       "      <th>4</th>\n",
       "      <td>Warren Buffett</td>\n",
       "      <td>$118,000,000,000</td>\n",
       "      <td>91</td>\n",
       "      <td>United States</td>\n",
       "      <td>Berkshire Hathaway</td>\n",
       "      <td>Finance &amp; Investments</td>\n",
       "    </tr>\n",
       "    <tr>\n",
       "      <th>...</th>\n",
       "      <td>...</td>\n",
       "      <td>...</td>\n",
       "      <td>...</td>\n",
       "      <td>...</td>\n",
       "      <td>...</td>\n",
       "      <td>...</td>\n",
       "    </tr>\n",
       "    <tr>\n",
       "      <th>96</th>\n",
       "      <td>Vladimir Potanin</td>\n",
       "      <td>$17,300,000,000</td>\n",
       "      <td>61</td>\n",
       "      <td>Russia</td>\n",
       "      <td>metals</td>\n",
       "      <td>Metals &amp; Mining</td>\n",
       "    </tr>\n",
       "    <tr>\n",
       "      <th>97</th>\n",
       "      <td>Harold Hamm &amp; family</td>\n",
       "      <td>$17,200,000,000</td>\n",
       "      <td>76</td>\n",
       "      <td>United States</td>\n",
       "      <td>oil &amp; gas</td>\n",
       "      <td>Energy</td>\n",
       "    </tr>\n",
       "    <tr>\n",
       "      <th>98</th>\n",
       "      <td>Sun Piaoyang</td>\n",
       "      <td>$17,100,000,000</td>\n",
       "      <td>63</td>\n",
       "      <td>China</td>\n",
       "      <td>pharmaceuticals</td>\n",
       "      <td>Healthcare</td>\n",
       "    </tr>\n",
       "    <tr>\n",
       "      <th>99</th>\n",
       "      <td>Luo Liguo &amp; family</td>\n",
       "      <td>$17,000,000,000</td>\n",
       "      <td>66</td>\n",
       "      <td>China</td>\n",
       "      <td>chemicals</td>\n",
       "      <td>Manufacturing</td>\n",
       "    </tr>\n",
       "    <tr>\n",
       "      <th>100</th>\n",
       "      <td>Peter Woo</td>\n",
       "      <td>$17,000,000,000</td>\n",
       "      <td>75</td>\n",
       "      <td>Hong Kong</td>\n",
       "      <td>real estate</td>\n",
       "      <td>Real Estate</td>\n",
       "    </tr>\n",
       "  </tbody>\n",
       "</table>\n",
       "<p>101 rows × 6 columns</p>\n",
       "</div>"
      ],
      "text/plain": [
       "                         Name          NetWorth  Age Country/Territory  \\\n",
       "0                   Elon Musk  $219,000,000,000   50     United States   \n",
       "1                  Jeff Bezos  $171,000,000,000   58     United States   \n",
       "2    Bernard Arnault & family  $158,000,000,000   73            France   \n",
       "3                  Bill Gates  $129,000,000,000   66     United States   \n",
       "4              Warren Buffett  $118,000,000,000   91     United States   \n",
       "..                        ...               ...  ...               ...   \n",
       "96           Vladimir Potanin   $17,300,000,000   61            Russia   \n",
       "97       Harold Hamm & family   $17,200,000,000   76     United States   \n",
       "98               Sun Piaoyang   $17,100,000,000   63             China   \n",
       "99         Luo Liguo & family   $17,000,000,000   66             China   \n",
       "100                 Peter Woo   $17,000,000,000   75         Hong Kong   \n",
       "\n",
       "                 Source               Industry  \n",
       "0         Tesla, SpaceX             Automotive  \n",
       "1                Amazon             Technology  \n",
       "2                  LVMH       Fashion & Retail  \n",
       "3             Microsoft             Technology  \n",
       "4    Berkshire Hathaway  Finance & Investments  \n",
       "..                  ...                    ...  \n",
       "96               metals        Metals & Mining  \n",
       "97            oil & gas                 Energy  \n",
       "98      pharmaceuticals             Healthcare  \n",
       "99            chemicals          Manufacturing  \n",
       "100         real estate            Real Estate  \n",
       "\n",
       "[101 rows x 6 columns]"
      ]
     },
     "execution_count": 241,
     "metadata": {},
     "output_type": "execute_result"
    }
   ],
   "source": [
    "richest= pd.read_csv(r'C:\\Users\\IDEAL INFO\\Documents\\data_pipelines\\TopRichestInWorld.csv')\n",
    "richest"
   ]
  },
  {
   "cell_type": "code",
   "execution_count": null,
   "id": "306a0bb0",
   "metadata": {},
   "outputs": [
    {
     "data": {
      "text/plain": [
       "(101, 6)"
      ]
     },
     "execution_count": 243,
     "metadata": {},
     "output_type": "execute_result"
    }
   ],
   "source": [
    "#.shape return to us that it has 101 rows and 6 columns \n",
    "richest.shape"
   ]
  },
  {
   "cell_type": "code",
   "execution_count": 245,
   "id": "2083ef65",
   "metadata": {},
   "outputs": [
    {
     "data": {
      "text/plain": [
       "606"
      ]
     },
     "execution_count": 245,
     "metadata": {},
     "output_type": "execute_result"
    }
   ],
   "source": [
    "#return how many element in this dataframe \n",
    "richest.size "
   ]
  },
  {
   "cell_type": "code",
   "execution_count": 247,
   "id": "58306767",
   "metadata": {},
   "outputs": [
    {
     "data": {
      "text/plain": [
       "RangeIndex(start=0, stop=101, step=1)"
      ]
     },
     "execution_count": 247,
     "metadata": {},
     "output_type": "execute_result"
    }
   ],
   "source": [
    "#we can get some information regarding the index and it's a simple range that start from 0 to 101 with 1 step \n",
    "richest.index"
   ]
  },
  {
   "cell_type": "code",
   "execution_count": null,
   "id": "2b3c6b13",
   "metadata": {},
   "outputs": [
    {
     "data": {
      "text/plain": [
       "Index(['Name', 'NetWorth', 'Age', 'Country/Territory', 'Source', 'Industry'], dtype='object')"
      ]
     },
     "execution_count": 250,
     "metadata": {},
     "output_type": "execute_result"
    }
   ],
   "source": [
    "#we can also see what kind of columns we have  . it's going to give us all the column and the datatype = object because they are strings \n",
    "richest.columns\n"
   ]
  },
  {
   "cell_type": "code",
   "execution_count": 252,
   "id": "2112171d",
   "metadata": {},
   "outputs": [
    {
     "data": {
      "text/plain": [
       "[RangeIndex(start=0, stop=101, step=1),\n",
       " Index(['Name', 'NetWorth', 'Age', 'Country/Territory', 'Source', 'Industry'], dtype='object')]"
      ]
     },
     "execution_count": 252,
     "metadata": {},
     "output_type": "execute_result"
    }
   ],
   "source": [
    "#that's going to return to us information regarding both the index and the columns .\n",
    "richest.axes "
   ]
  },
  {
   "cell_type": "code",
   "execution_count": null,
   "id": "93c3158c",
   "metadata": {},
   "outputs": [
    {
     "data": {
      "text/plain": [
       "Name                 object\n",
       "NetWorth             object\n",
       "Age                   int64\n",
       "Country/Territory    object\n",
       "Source               object\n",
       "Industry             object\n",
       "dtype: object"
      ]
     },
     "execution_count": 253,
     "metadata": {},
     "output_type": "execute_result"
    }
   ],
   "source": [
    "#we can also get the data types for each one of the columns \n",
    "richest.dtypes"
   ]
  },
  {
   "cell_type": "code",
   "execution_count": null,
   "id": "0ef6cb3b",
   "metadata": {},
   "outputs": [
    {
     "data": {
      "text/plain": [
       "array([['Elon Musk', '$219,000,000,000', 50, 'United States',\n",
       "        'Tesla, SpaceX', 'Automotive'],\n",
       "       ['Jeff Bezos', '$171,000,000,000', 58, 'United States', 'Amazon',\n",
       "        'Technology'],\n",
       "       ['Bernard Arnault & family', '$158,000,000,000', 73, 'France',\n",
       "        'LVMH', 'Fashion & Retail'],\n",
       "       ['Bill Gates', '$129,000,000,000', 66, 'United States',\n",
       "        'Microsoft', 'Technology'],\n",
       "       ['Warren Buffett', '$118,000,000,000', 91, 'United States',\n",
       "        'Berkshire Hathaway', 'Finance & Investments'],\n",
       "       ['Larry Page', '$111,000,000,000', 49, 'United States', 'Google',\n",
       "        'Technology'],\n",
       "       ['Sergey Brin', '$107,000,000,000', 48, 'United States', 'Google',\n",
       "        'Technology'],\n",
       "       ['Larry Ellison', '$106,000,000,000', 77, 'United States',\n",
       "        'software', 'Technology'],\n",
       "       ['Steve Ballmer', '$91,400,000,000', 66, 'United States',\n",
       "        'Microsoft', 'Technology'],\n",
       "       ['Mukesh Ambani', '$90,700,000,000', 64, 'India', 'diversified',\n",
       "        'Diversified'],\n",
       "       ['Gautam Adani & family', '$90,000,000,000', 59, 'India',\n",
       "        'infrastructure, commodities', 'Diversified'],\n",
       "       ['Michael Bloomberg', '$82,000,000,000', 80, 'United States',\n",
       "        'Bloomberg LP', 'Media & Entertainment'],\n",
       "       ['Carlos Slim Helu & family', '$81,200,000,000', 82, 'Mexico',\n",
       "        'telecom', 'Telecom'],\n",
       "       ['Francoise Bettencourt Meyers & family', '$74,800,000,000', 68,\n",
       "        'France', \"L'Oréal\", 'Fashion & Retail'],\n",
       "       ['Mark Zuckerberg', '$67,300,000,000', 37, 'United States',\n",
       "        'Facebook', 'Technology'],\n",
       "       ['Jim Walton', '$66,200,000,000', 73, 'United States', 'Walmart',\n",
       "        'Fashion & Retail'],\n",
       "       ['Zhong Shanshan', '$65,700,000,000', 67, 'China',\n",
       "        'beverages, pharmaceuticals', 'Food & Beverage'],\n",
       "       ['Alice Walton', '$65,300,000,000', 72, 'United States',\n",
       "        'Walmart', 'Fashion & Retail'],\n",
       "       ['Rob Walton', '$65,000,000,000', 77, 'United States', 'Walmart',\n",
       "        'Fashion & Retail'],\n",
       "       ['Changpeng Zhao', '$65,000,000,000', 44, 'Canada',\n",
       "        'cryptocurrency exchange', 'Finance & Investments'],\n",
       "       ['Charles Koch', '$60,000,000,000', 86, 'United States',\n",
       "        'Koch Industries', 'Diversified'],\n",
       "       ['Julia Koch & family', '$60,000,000,000', 59, 'United States',\n",
       "        'Koch Industries', 'Diversified'],\n",
       "       ['Amancio Ortega', '$59,600,000,000', 86, 'Spain', 'Zara',\n",
       "        'Fashion & Retail'],\n",
       "       ['Michael Dell', '$55,100,000,000', 57, 'United States',\n",
       "        'Dell computers', 'Technology'],\n",
       "       ['Zhang Yiming', '$50,000,000,000', 38, 'China', 'TikTok',\n",
       "        'Media & Entertainment'],\n",
       "       ['David Thomson & family', '$49,200,000,000', 64, 'Canada',\n",
       "        'media', 'Media & Entertainment'],\n",
       "       ['Phil Knight & family', '$47,300,000,000', 84, 'United States',\n",
       "        'Nike', 'Fashion & Retail'],\n",
       "       ['Dieter Schwarz', '$47,100,000,000', 82, 'Germany', 'retail',\n",
       "        'Fashion & Retail'],\n",
       "       ['Robin Zeng', '$44,800,000,000', 53, 'Hong Kong', 'batteries',\n",
       "        'Automotive'],\n",
       "       ['MacKenzie Scott', '$43,600,000,000', 51, 'United States',\n",
       "        'Amazon', 'Technology'],\n",
       "       ['Rodolphe Saadé & family', '$41,400,000,000', 52, 'France',\n",
       "        'shipping', 'Logistics'],\n",
       "       ['François Pinault & family', '$40,400,000,000', 85, 'France',\n",
       "        'luxury goods', 'Fashion & Retail'],\n",
       "       ['Klaus-Michael Kuehne', '$37,300,000,000', 84, 'Germany',\n",
       "        'shipping', 'Logistics'],\n",
       "       ['Ma Huateng', '$37,200,000,000', 50, 'China', 'internet media',\n",
       "        'Technology'],\n",
       "       ['Beate Heister & Karl Albrecht Jr. & family', '$36,800,000,000',\n",
       "        50, 'Germany', 'supermarkets', 'Fashion & Retail'],\n",
       "       ['Giovanni Ferrero', '$36,200,000,000', 57, 'Italy',\n",
       "        'Nutella, chocolates', 'Food & Beverage'],\n",
       "       ['Li Ka-shing', '$34,800,000,000', 93, 'Hong Kong', 'diversified',\n",
       "        'Diversified'],\n",
       "       ['Stephen Schwarzman', '$34,800,000,000', 75, 'United States',\n",
       "        'investments', 'Finance & Investments'],\n",
       "       ['Lee Shau Kee', '$32,600,000,000', 94, 'Hong Kong',\n",
       "        'real estate', 'Real Estate'],\n",
       "       ['Len Blavatnik', '$32,500,000,000', 64, 'United States',\n",
       "        'music, chemicals', 'Diversified'],\n",
       "       ['Jacqueline Mars', '$31,700,000,000', 82, 'United States',\n",
       "        'candy, pet food', 'Food & Beverage'],\n",
       "       ['John Mars', '$31,700,000,000', 86, 'United States',\n",
       "        'candy, pet food', 'Food & Beverage'],\n",
       "       ['Alain Wertheimer', '$31,200,000,000', 73, 'France', 'Chanel',\n",
       "        'Fashion & Retail'],\n",
       "       ['Gerard Wertheimer', '$31,200,000,000', 71, 'France', 'Chanel',\n",
       "        'Fashion & Retail'],\n",
       "       ['German Larrea Mota Velasco & family', '$30,800,000,000', 68,\n",
       "        'Mexico', 'mining', 'Metals & Mining'],\n",
       "       ['Gina Rinehart', '$30,200,000,000', 68, 'Australia', 'mining',\n",
       "        'Metals & Mining'],\n",
       "       ['Shiv Nadar', '$28,700,000,000', 76, 'India',\n",
       "        'software services', 'Technology'],\n",
       "       ['Jim Simons', '$28,600,000,000', 83, 'United States',\n",
       "        'hedge funds', 'Finance & Investments'],\n",
       "       ['He Xiangjian', '$28,300,000,000', 79, 'China',\n",
       "        'home appliances', 'Manufacturing'],\n",
       "       ['Miriam Adelson', '$27,500,000,000', 76, 'United States',\n",
       "        'casinos', 'Gambling & Casinos'],\n",
       "       ['Dietrich Mateschitz', '$27,400,000,000', 77, 'Austria',\n",
       "        'Red Bull', 'Food & Beverage'],\n",
       "       ['Leonardo Del Vecchio & family', '$27,300,000,000', 86, 'Italy',\n",
       "        'eyeglasses', 'Fashion & Retail'],\n",
       "       ['Ken Griffin', '$27,200,000,000', 53, 'United States',\n",
       "        'hedge funds', 'Finance & Investments'],\n",
       "       ['Tadashi Yanai & family', '$26,100,000,000', 73, 'Japan',\n",
       "        'fashion retail', 'Fashion & Retail'],\n",
       "       ['William Lei Ding', '$25,200,000,000', 50, 'China',\n",
       "        'online games', 'Technology'],\n",
       "       ['Susanne Klatten', '$24,300,000,000', 59, 'Germany',\n",
       "        'BMW, pharmaceuticals', 'Automotive'],\n",
       "       ['Cyrus Poonawalla', '$24,300,000,000', 80, 'India', 'vaccines',\n",
       "        'Healthcare'],\n",
       "       ['Wang Wei', '$24,300,000,000', 51, 'China', 'package delivery',\n",
       "        'Service'],\n",
       "       ['Qin Yinglin', '$24,100,000,000', 56, 'China', 'pig breeding',\n",
       "        'Food & Beverage'],\n",
       "       ['Sam Bankman-Fried', '$24,000,000,000', 30, 'United States',\n",
       "        'cryptocurrency exchange', 'Finance & Investments'],\n",
       "       ['Takemitsu Takizaki', '$23,900,000,000', 76, 'Japan', 'sensors',\n",
       "        'Manufacturing'],\n",
       "       ['Li Shufu', '$23,700,000,000', 58, 'China', 'automobiles',\n",
       "        'Automotive'],\n",
       "       ['Emmanuel Besnier', '$23,500,000,000', 51, 'France', 'cheese',\n",
       "        'Food & Beverage'],\n",
       "       ['R. Budi Hartono', '$23,200,000,000', 81, 'Indonesia',\n",
       "        'banking, tobacco', 'Finance & Investments'],\n",
       "       ['Leonard Lauder', '$23,100,000,000', 89, 'United States',\n",
       "        'Estee Lauder', 'Fashion & Retail'],\n",
       "       ['Guillaume Pousaz', '$23,000,000,000', 40, 'Switzerland',\n",
       "        'fintech', 'Finance & Investments'],\n",
       "       ['Iris Fontbona & family', '$22,800,000,000', 79, 'Chile',\n",
       "        'mining', 'Metals & Mining'],\n",
       "       ['Jack Ma', '$22,800,000,000', 57, 'China', 'e-commerce',\n",
       "        'Technology'],\n",
       "       ['Michael Hartono', '$22,300,000,000', 82, 'Indonesia',\n",
       "        'banking, tobacco', 'Manufacturing'],\n",
       "       ['Eric Schmidt', '$22,100,000,000', 66, 'United States', 'Google',\n",
       "        'Technology'],\n",
       "       ['Ray Dalio', '$22,000,000,000', 72, 'United States',\n",
       "        'hedge funds', 'Finance & Investments'],\n",
       "       ['Daniel Gilbert', '$22,000,000,000', 60, 'United States',\n",
       "        'Quicken Loans', 'Finance & Investments'],\n",
       "       ['Thomas Frist, Jr. & family', '$21,800,000,000', 83,\n",
       "        'United States', 'hospitals', 'Healthcare'],\n",
       "       ['Masayoshi Son', '$21,300,000,000', 64, 'Japan',\n",
       "        'internet, telecom', 'Telecom'],\n",
       "       ['Abigail Johnson', '$21,200,000,000', 60, 'United States',\n",
       "        'money management', 'Finance & Investments'],\n",
       "       ['Rupert Murdoch & family', '$20,800,000,000', 91,\n",
       "        'United States', 'newspapers, TV network',\n",
       "        'Media & Entertainment'],\n",
       "       ['Stefan Quandt', '$20,700,000,000', 55, 'Germany', 'BMW',\n",
       "        'Automotive'],\n",
       "       ['Jensen Huang', '$20,600,000,000', 59, 'United States',\n",
       "        'semiconductors', 'Technology'],\n",
       "       ['Huang Shilin', '$20,300,000,000', 55, 'China', 'batteries',\n",
       "        'Automotive'],\n",
       "       ['Thomas Peterffy', '$20,100,000,000', 77, 'United States',\n",
       "        'discount brokerage', 'Finance & Investments'],\n",
       "       ['Radhakishan Damani', '$20,000,000,000', 67, 'India',\n",
       "        'retail, investments', 'Fashion & Retail'],\n",
       "       ['Pang Kang', '$19,600,000,000', 66, 'China', 'soy sauce',\n",
       "        'Food & Beverage'],\n",
       "       ['Wang Chuanfu', '$19,500,000,000', 56, 'China',\n",
       "        'batteries, automobiles', 'Automotive'],\n",
       "       ['Reinhold Wuerth & family', '$19,000,000,000', 86, 'Germany',\n",
       "        'fasteners', 'Manufacturing'],\n",
       "       ['Theo Albrecht, Jr. & family', '$18,700,000,000', 71, 'Germany',\n",
       "        \"Aldi, Trader Joe's\", 'Fashion & Retail'],\n",
       "       ['Yang Huiyan & family', '$18,700,000,000', 40, 'China',\n",
       "        'real estate', 'Real Estate'],\n",
       "       ['Vladimir Lisin', '$18,400,000,000', 65, 'Russia',\n",
       "        'steel, transport', 'Metals & Mining'],\n",
       "       ['Fan Hongwei & family', '$18,200,000,000', 55, 'China',\n",
       "        'petrochemicals', 'Energy'],\n",
       "       ['Lakshmi Mittal', '$17,900,000,000', 71, 'India', 'steel',\n",
       "        'Metals & Mining'],\n",
       "       ['Andrew Forrest', '$17,800,000,000', 60, 'Australia', 'mining',\n",
       "        'Metals & Mining'],\n",
       "       ['Jiang Rensheng & family', '$17,700,000,000', 68, 'China',\n",
       "        'vaccines', 'Healthcare'],\n",
       "       ['Savitri Jindal & family', '$17,700,000,000', 72, 'India',\n",
       "        'steel', 'Metals & Mining'],\n",
       "       ['Wang Wenyin', '$17,700,000,000', 54, 'China',\n",
       "        'mining, copper products', 'Metals & Mining'],\n",
       "       ['Li Xiting', '$17,600,000,000', 71, 'Singapore',\n",
       "        'medical devices', 'Healthcare'],\n",
       "       ['Stefan Persson', '$17,600,000,000', 74, 'Sweden', 'H&M',\n",
       "        'Fashion & Retail'],\n",
       "       ['Steve Cohen', '$17,400,000,000', 65, 'United States',\n",
       "        'hedge funds', 'Finance & Investments'],\n",
       "       ['Vladimir Potanin', '$17,300,000,000', 61, 'Russia', 'metals',\n",
       "        'Metals & Mining'],\n",
       "       ['Harold Hamm & family', '$17,200,000,000', 76, 'United States',\n",
       "        'oil & gas', 'Energy'],\n",
       "       ['Sun Piaoyang', '$17,100,000,000', 63, 'China',\n",
       "        'pharmaceuticals', 'Healthcare'],\n",
       "       ['Luo Liguo & family', '$17,000,000,000', 66, 'China',\n",
       "        'chemicals', 'Manufacturing'],\n",
       "       ['Peter Woo', '$17,000,000,000', 75, 'Hong Kong', 'real estate',\n",
       "        'Real Estate']], dtype=object)"
      ]
     },
     "execution_count": 255,
     "metadata": {},
     "output_type": "execute_result"
    }
   ],
   "source": [
    "#we can also get some information regarding the values \n",
    "#going to return to us all the values in our dataframe as an array \n",
    "richest.values"
   ]
  },
  {
   "cell_type": "code",
   "execution_count": 260,
   "id": "a107dffc",
   "metadata": {},
   "outputs": [],
   "source": [
    "import pandas as pd "
   ]
  },
  {
   "cell_type": "code",
   "execution_count": 262,
   "id": "2ea4d7d5",
   "metadata": {},
   "outputs": [
    {
     "data": {
      "text/plain": [
       "0    100\n",
       "1    200\n",
       "2    300\n",
       "dtype: int64"
      ]
     },
     "execution_count": 262,
     "metadata": {},
     "output_type": "execute_result"
    }
   ],
   "source": [
    "series = pd.Series( [100,200,300] )\n",
    "series\n"
   ]
  },
  {
   "cell_type": "code",
   "execution_count": null,
   "id": "cdfa88df",
   "metadata": {},
   "outputs": [
    {
     "data": {
      "text/html": [
       "<div>\n",
       "<style scoped>\n",
       "    .dataframe tbody tr th:only-of-type {\n",
       "        vertical-align: middle;\n",
       "    }\n",
       "\n",
       "    .dataframe tbody tr th {\n",
       "        vertical-align: top;\n",
       "    }\n",
       "\n",
       "    .dataframe thead th {\n",
       "        text-align: right;\n",
       "    }\n",
       "</style>\n",
       "<table border=\"1\" class=\"dataframe\">\n",
       "  <thead>\n",
       "    <tr style=\"text-align: right;\">\n",
       "      <th></th>\n",
       "      <th>a</th>\n",
       "      <th>b</th>\n",
       "      <th>c</th>\n",
       "    </tr>\n",
       "  </thead>\n",
       "  <tbody>\n",
       "    <tr>\n",
       "      <th>0</th>\n",
       "      <td>100</td>\n",
       "      <td>400</td>\n",
       "      <td>700</td>\n",
       "    </tr>\n",
       "    <tr>\n",
       "      <th>1</th>\n",
       "      <td>200</td>\n",
       "      <td>500</td>\n",
       "      <td>800</td>\n",
       "    </tr>\n",
       "    <tr>\n",
       "      <th>2</th>\n",
       "      <td>300</td>\n",
       "      <td>600</td>\n",
       "      <td>900</td>\n",
       "    </tr>\n",
       "  </tbody>\n",
       "</table>\n",
       "</div>"
      ],
      "text/plain": [
       "     a    b    c\n",
       "0  100  400  700\n",
       "1  200  500  800\n",
       "2  300  600  900"
      ]
     },
     "execution_count": 263,
     "metadata": {},
     "output_type": "execute_result"
    }
   ],
   "source": [
    "#we create our data and our dataframe is df \n",
    "data= {'a':[100,200,300], 'b':[400,500,600], 'c':[700,800,900]}\n",
    "df= pd.DataFrame(data)\n",
    "df \n"
   ]
  },
  {
   "cell_type": "code",
   "execution_count": null,
   "id": "fbcc5974",
   "metadata": {},
   "outputs": [
    {
     "data": {
      "text/plain": [
       "a     600\n",
       "b    1500\n",
       "c    2400\n",
       "dtype: int64"
      ]
     },
     "execution_count": 265,
     "metadata": {},
     "output_type": "execute_result"
    }
   ],
   "source": [
    "#sums each value per column and return a series \n",
    "# we can write axis=0 \n",
    "df.sum()"
   ]
  },
  {
   "cell_type": "code",
   "execution_count": null,
   "id": "2e6cb8df",
   "metadata": {},
   "outputs": [
    {
     "data": {
      "text/plain": [
       "0    1200\n",
       "1    1500\n",
       "2    1800\n",
       "dtype: int64"
      ]
     },
     "execution_count": 271,
     "metadata": {},
     "output_type": "execute_result"
    }
   ],
   "source": [
    "#will sum thing up horizontaly (columns) \n",
    "#or we can write axis=1 \n",
    "df.sum(axis='columns')"
   ]
  },
  {
   "cell_type": "code",
   "execution_count": null,
   "id": "1d24ef7e",
   "metadata": {},
   "outputs": [],
   "source": [
    "#we just import the data set path \n",
    "dataset=r'C:\\Users\\IDEAL INFO\\Documents\\data_pipelines\\imdb_top_1000.csv'"
   ]
  },
  {
   "cell_type": "code",
   "execution_count": 273,
   "id": "db6d5a44",
   "metadata": {},
   "outputs": [],
   "source": [
    "import pandas as pd "
   ]
  },
  {
   "cell_type": "code",
   "execution_count": 285,
   "id": "f23a45d3",
   "metadata": {},
   "outputs": [],
   "source": [
    "#specify the columns we want \n",
    "cols= ['Series_Title', 'IMDB_Rating', 'No_of_Votes', 'Gross', 'Released_Year','Genre'] "
   ]
  },
  {
   "cell_type": "code",
   "execution_count": 287,
   "id": "9d0edd93",
   "metadata": {},
   "outputs": [
    {
     "data": {
      "text/html": [
       "<div>\n",
       "<style scoped>\n",
       "    .dataframe tbody tr th:only-of-type {\n",
       "        vertical-align: middle;\n",
       "    }\n",
       "\n",
       "    .dataframe tbody tr th {\n",
       "        vertical-align: top;\n",
       "    }\n",
       "\n",
       "    .dataframe thead th {\n",
       "        text-align: right;\n",
       "    }\n",
       "</style>\n",
       "<table border=\"1\" class=\"dataframe\">\n",
       "  <thead>\n",
       "    <tr style=\"text-align: right;\">\n",
       "      <th></th>\n",
       "      <th>Series_Title</th>\n",
       "      <th>Released_Year</th>\n",
       "      <th>Genre</th>\n",
       "      <th>IMDB_Rating</th>\n",
       "      <th>No_of_Votes</th>\n",
       "      <th>Gross</th>\n",
       "    </tr>\n",
       "  </thead>\n",
       "  <tbody>\n",
       "    <tr>\n",
       "      <th>0</th>\n",
       "      <td>The Shawshank Redemption</td>\n",
       "      <td>1994</td>\n",
       "      <td>Drama</td>\n",
       "      <td>9.3</td>\n",
       "      <td>2343110</td>\n",
       "      <td>28,341,469</td>\n",
       "    </tr>\n",
       "    <tr>\n",
       "      <th>1</th>\n",
       "      <td>The Godfather</td>\n",
       "      <td>1972</td>\n",
       "      <td>Crime, Drama</td>\n",
       "      <td>9.2</td>\n",
       "      <td>1620367</td>\n",
       "      <td>134,966,411</td>\n",
       "    </tr>\n",
       "    <tr>\n",
       "      <th>2</th>\n",
       "      <td>The Dark Knight</td>\n",
       "      <td>2008</td>\n",
       "      <td>Action, Crime, Drama</td>\n",
       "      <td>9.0</td>\n",
       "      <td>2303232</td>\n",
       "      <td>534,858,444</td>\n",
       "    </tr>\n",
       "    <tr>\n",
       "      <th>3</th>\n",
       "      <td>The Godfather: Part II</td>\n",
       "      <td>1974</td>\n",
       "      <td>Crime, Drama</td>\n",
       "      <td>9.0</td>\n",
       "      <td>1129952</td>\n",
       "      <td>57,300,000</td>\n",
       "    </tr>\n",
       "    <tr>\n",
       "      <th>4</th>\n",
       "      <td>12 Angry Men</td>\n",
       "      <td>1957</td>\n",
       "      <td>Crime, Drama</td>\n",
       "      <td>9.0</td>\n",
       "      <td>689845</td>\n",
       "      <td>4,360,000</td>\n",
       "    </tr>\n",
       "    <tr>\n",
       "      <th>...</th>\n",
       "      <td>...</td>\n",
       "      <td>...</td>\n",
       "      <td>...</td>\n",
       "      <td>...</td>\n",
       "      <td>...</td>\n",
       "      <td>...</td>\n",
       "    </tr>\n",
       "    <tr>\n",
       "      <th>995</th>\n",
       "      <td>Breakfast at Tiffany's</td>\n",
       "      <td>1961</td>\n",
       "      <td>Comedy, Drama, Romance</td>\n",
       "      <td>7.6</td>\n",
       "      <td>166544</td>\n",
       "      <td>NaN</td>\n",
       "    </tr>\n",
       "    <tr>\n",
       "      <th>996</th>\n",
       "      <td>Giant</td>\n",
       "      <td>1956</td>\n",
       "      <td>Drama, Western</td>\n",
       "      <td>7.6</td>\n",
       "      <td>34075</td>\n",
       "      <td>NaN</td>\n",
       "    </tr>\n",
       "    <tr>\n",
       "      <th>997</th>\n",
       "      <td>From Here to Eternity</td>\n",
       "      <td>1953</td>\n",
       "      <td>Drama, Romance, War</td>\n",
       "      <td>7.6</td>\n",
       "      <td>43374</td>\n",
       "      <td>30,500,000</td>\n",
       "    </tr>\n",
       "    <tr>\n",
       "      <th>998</th>\n",
       "      <td>Lifeboat</td>\n",
       "      <td>1944</td>\n",
       "      <td>Drama, War</td>\n",
       "      <td>7.6</td>\n",
       "      <td>26471</td>\n",
       "      <td>NaN</td>\n",
       "    </tr>\n",
       "    <tr>\n",
       "      <th>999</th>\n",
       "      <td>The 39 Steps</td>\n",
       "      <td>1935</td>\n",
       "      <td>Crime, Mystery, Thriller</td>\n",
       "      <td>7.6</td>\n",
       "      <td>51853</td>\n",
       "      <td>NaN</td>\n",
       "    </tr>\n",
       "  </tbody>\n",
       "</table>\n",
       "<p>1000 rows × 6 columns</p>\n",
       "</div>"
      ],
      "text/plain": [
       "                 Series_Title Released_Year                     Genre  \\\n",
       "0    The Shawshank Redemption          1994                     Drama   \n",
       "1               The Godfather          1972              Crime, Drama   \n",
       "2             The Dark Knight          2008      Action, Crime, Drama   \n",
       "3      The Godfather: Part II          1974              Crime, Drama   \n",
       "4                12 Angry Men          1957              Crime, Drama   \n",
       "..                        ...           ...                       ...   \n",
       "995    Breakfast at Tiffany's          1961    Comedy, Drama, Romance   \n",
       "996                     Giant          1956            Drama, Western   \n",
       "997     From Here to Eternity          1953       Drama, Romance, War   \n",
       "998                  Lifeboat          1944                Drama, War   \n",
       "999              The 39 Steps          1935  Crime, Mystery, Thriller   \n",
       "\n",
       "     IMDB_Rating  No_of_Votes        Gross  \n",
       "0            9.3      2343110   28,341,469  \n",
       "1            9.2      1620367  134,966,411  \n",
       "2            9.0      2303232  534,858,444  \n",
       "3            9.0      1129952   57,300,000  \n",
       "4            9.0       689845    4,360,000  \n",
       "..           ...          ...          ...  \n",
       "995          7.6       166544          NaN  \n",
       "996          7.6        34075          NaN  \n",
       "997          7.6        43374   30,500,000  \n",
       "998          7.6        26471          NaN  \n",
       "999          7.6        51853          NaN  \n",
       "\n",
       "[1000 rows x 6 columns]"
      ]
     },
     "execution_count": 287,
     "metadata": {},
     "output_type": "execute_result"
    }
   ],
   "source": [
    "#read the dataset  and i specified which columns i need \n",
    "movies= pd.read_csv(r'C:\\Users\\IDEAL INFO\\Documents\\data_pipelines\\imdb_top_1000.csv' , usecols = cols) \n",
    "movies "
   ]
  },
  {
   "cell_type": "code",
   "execution_count": null,
   "id": "19980699",
   "metadata": {},
   "outputs": [
    {
     "name": "stdout",
     "output_type": "stream",
     "text": [
      "<class 'pandas.core.frame.DataFrame'>\n",
      "RangeIndex: 1000 entries, 0 to 999\n",
      "Data columns (total 6 columns):\n",
      " #   Column         Non-Null Count  Dtype  \n",
      "---  ------         --------------  -----  \n",
      " 0   Series_Title   1000 non-null   object \n",
      " 1   Released_Year  1000 non-null   object \n",
      " 2   Genre          1000 non-null   object \n",
      " 3   IMDB_Rating    1000 non-null   float64\n",
      " 4   No_of_Votes    1000 non-null   int64  \n",
      " 5   Gross          831 non-null    object \n",
      "dtypes: float64(1), int64(1), object(4)\n",
      "memory usage: 47.0+ KB\n"
     ]
    }
   ],
   "source": [
    "#gives us a lod of information / types/ whether we're missing values/ shows us the memory usage .. \n",
    "movies.info()"
   ]
  },
  {
   "cell_type": "code",
   "execution_count": null,
   "id": "9dbda4ff",
   "metadata": {},
   "outputs": [
    {
     "data": {
      "text/html": [
       "<div>\n",
       "<style scoped>\n",
       "    .dataframe tbody tr th:only-of-type {\n",
       "        vertical-align: middle;\n",
       "    }\n",
       "\n",
       "    .dataframe tbody tr th {\n",
       "        vertical-align: top;\n",
       "    }\n",
       "\n",
       "    .dataframe thead th {\n",
       "        text-align: right;\n",
       "    }\n",
       "</style>\n",
       "<table border=\"1\" class=\"dataframe\">\n",
       "  <thead>\n",
       "    <tr style=\"text-align: right;\">\n",
       "      <th></th>\n",
       "      <th>IMDB_Rating</th>\n",
       "      <th>No_of_Votes</th>\n",
       "    </tr>\n",
       "  </thead>\n",
       "  <tbody>\n",
       "    <tr>\n",
       "      <th>count</th>\n",
       "      <td>1000.0</td>\n",
       "      <td>1000.0</td>\n",
       "    </tr>\n",
       "    <tr>\n",
       "      <th>mean</th>\n",
       "      <td>8.0</td>\n",
       "      <td>273693.0</td>\n",
       "    </tr>\n",
       "    <tr>\n",
       "      <th>std</th>\n",
       "      <td>0.0</td>\n",
       "      <td>327373.0</td>\n",
       "    </tr>\n",
       "    <tr>\n",
       "      <th>min</th>\n",
       "      <td>8.0</td>\n",
       "      <td>25088.0</td>\n",
       "    </tr>\n",
       "    <tr>\n",
       "      <th>25%</th>\n",
       "      <td>8.0</td>\n",
       "      <td>55526.0</td>\n",
       "    </tr>\n",
       "    <tr>\n",
       "      <th>50%</th>\n",
       "      <td>8.0</td>\n",
       "      <td>138548.0</td>\n",
       "    </tr>\n",
       "    <tr>\n",
       "      <th>75%</th>\n",
       "      <td>8.0</td>\n",
       "      <td>374161.0</td>\n",
       "    </tr>\n",
       "    <tr>\n",
       "      <th>max</th>\n",
       "      <td>9.0</td>\n",
       "      <td>2343110.0</td>\n",
       "    </tr>\n",
       "  </tbody>\n",
       "</table>\n",
       "</div>"
      ],
      "text/plain": [
       "       IMDB_Rating  No_of_Votes\n",
       "count       1000.0       1000.0\n",
       "mean           8.0     273693.0\n",
       "std            0.0     327373.0\n",
       "min            8.0      25088.0\n",
       "25%            8.0      55526.0\n",
       "50%            8.0     138548.0\n",
       "75%            8.0     374161.0\n",
       "max            9.0    2343110.0"
      ]
     },
     "execution_count": 290,
     "metadata": {},
     "output_type": "execute_result"
    }
   ],
   "source": [
    "#just for numerical type ,for exemple the gros is defined as object , so that's why is no included \n",
    "movies.describe().round()"
   ]
  },
  {
   "cell_type": "code",
   "execution_count": null,
   "id": "c367f238",
   "metadata": {},
   "outputs": [
    {
     "data": {
      "text/html": [
       "<div>\n",
       "<style scoped>\n",
       "    .dataframe tbody tr th:only-of-type {\n",
       "        vertical-align: middle;\n",
       "    }\n",
       "\n",
       "    .dataframe tbody tr th {\n",
       "        vertical-align: top;\n",
       "    }\n",
       "\n",
       "    .dataframe thead th {\n",
       "        text-align: right;\n",
       "    }\n",
       "</style>\n",
       "<table border=\"1\" class=\"dataframe\">\n",
       "  <thead>\n",
       "    <tr style=\"text-align: right;\">\n",
       "      <th></th>\n",
       "      <th>Series_Title</th>\n",
       "      <th>Released_Year</th>\n",
       "      <th>Genre</th>\n",
       "      <th>IMDB_Rating</th>\n",
       "      <th>No_of_Votes</th>\n",
       "      <th>Gross</th>\n",
       "    </tr>\n",
       "  </thead>\n",
       "  <tbody>\n",
       "    <tr>\n",
       "      <th>0</th>\n",
       "      <td>The Shawshank Redemption</td>\n",
       "      <td>1994</td>\n",
       "      <td>Drama</td>\n",
       "      <td>9.3</td>\n",
       "      <td>2343110</td>\n",
       "      <td>28341469</td>\n",
       "    </tr>\n",
       "    <tr>\n",
       "      <th>1</th>\n",
       "      <td>The Godfather</td>\n",
       "      <td>1972</td>\n",
       "      <td>Crime, Drama</td>\n",
       "      <td>9.2</td>\n",
       "      <td>1620367</td>\n",
       "      <td>134966411</td>\n",
       "    </tr>\n",
       "    <tr>\n",
       "      <th>2</th>\n",
       "      <td>The Dark Knight</td>\n",
       "      <td>2008</td>\n",
       "      <td>Action, Crime, Drama</td>\n",
       "      <td>9.0</td>\n",
       "      <td>2303232</td>\n",
       "      <td>534858444</td>\n",
       "    </tr>\n",
       "    <tr>\n",
       "      <th>3</th>\n",
       "      <td>The Godfather: Part II</td>\n",
       "      <td>1974</td>\n",
       "      <td>Crime, Drama</td>\n",
       "      <td>9.0</td>\n",
       "      <td>1129952</td>\n",
       "      <td>57300000</td>\n",
       "    </tr>\n",
       "    <tr>\n",
       "      <th>4</th>\n",
       "      <td>12 Angry Men</td>\n",
       "      <td>1957</td>\n",
       "      <td>Crime, Drama</td>\n",
       "      <td>9.0</td>\n",
       "      <td>689845</td>\n",
       "      <td>4360000</td>\n",
       "    </tr>\n",
       "    <tr>\n",
       "      <th>...</th>\n",
       "      <td>...</td>\n",
       "      <td>...</td>\n",
       "      <td>...</td>\n",
       "      <td>...</td>\n",
       "      <td>...</td>\n",
       "      <td>...</td>\n",
       "    </tr>\n",
       "    <tr>\n",
       "      <th>995</th>\n",
       "      <td>Breakfast at Tiffany's</td>\n",
       "      <td>1961</td>\n",
       "      <td>Comedy, Drama, Romance</td>\n",
       "      <td>7.6</td>\n",
       "      <td>166544</td>\n",
       "      <td>NaN</td>\n",
       "    </tr>\n",
       "    <tr>\n",
       "      <th>996</th>\n",
       "      <td>Giant</td>\n",
       "      <td>1956</td>\n",
       "      <td>Drama, Western</td>\n",
       "      <td>7.6</td>\n",
       "      <td>34075</td>\n",
       "      <td>NaN</td>\n",
       "    </tr>\n",
       "    <tr>\n",
       "      <th>997</th>\n",
       "      <td>From Here to Eternity</td>\n",
       "      <td>1953</td>\n",
       "      <td>Drama, Romance, War</td>\n",
       "      <td>7.6</td>\n",
       "      <td>43374</td>\n",
       "      <td>30500000</td>\n",
       "    </tr>\n",
       "    <tr>\n",
       "      <th>998</th>\n",
       "      <td>Lifeboat</td>\n",
       "      <td>1944</td>\n",
       "      <td>Drama, War</td>\n",
       "      <td>7.6</td>\n",
       "      <td>26471</td>\n",
       "      <td>NaN</td>\n",
       "    </tr>\n",
       "    <tr>\n",
       "      <th>999</th>\n",
       "      <td>The 39 Steps</td>\n",
       "      <td>1935</td>\n",
       "      <td>Crime, Mystery, Thriller</td>\n",
       "      <td>7.6</td>\n",
       "      <td>51853</td>\n",
       "      <td>NaN</td>\n",
       "    </tr>\n",
       "  </tbody>\n",
       "</table>\n",
       "<p>1000 rows × 6 columns</p>\n",
       "</div>"
      ],
      "text/plain": [
       "                 Series_Title Released_Year                     Genre  \\\n",
       "0    The Shawshank Redemption          1994                     Drama   \n",
       "1               The Godfather          1972              Crime, Drama   \n",
       "2             The Dark Knight          2008      Action, Crime, Drama   \n",
       "3      The Godfather: Part II          1974              Crime, Drama   \n",
       "4                12 Angry Men          1957              Crime, Drama   \n",
       "..                        ...           ...                       ...   \n",
       "995    Breakfast at Tiffany's          1961    Comedy, Drama, Romance   \n",
       "996                     Giant          1956            Drama, Western   \n",
       "997     From Here to Eternity          1953       Drama, Romance, War   \n",
       "998                  Lifeboat          1944                Drama, War   \n",
       "999              The 39 Steps          1935  Crime, Mystery, Thriller   \n",
       "\n",
       "     IMDB_Rating  No_of_Votes      Gross  \n",
       "0            9.3      2343110   28341469  \n",
       "1            9.2      1620367  134966411  \n",
       "2            9.0      2303232  534858444  \n",
       "3            9.0      1129952   57300000  \n",
       "4            9.0       689845    4360000  \n",
       "..           ...          ...        ...  \n",
       "995          7.6       166544        NaN  \n",
       "996          7.6        34075        NaN  \n",
       "997          7.6        43374   30500000  \n",
       "998          7.6        26471        NaN  \n",
       "999          7.6        51853        NaN  \n",
       "\n",
       "[1000 rows x 6 columns]"
      ]
     },
     "execution_count": 291,
     "metadata": {},
     "output_type": "execute_result"
    }
   ],
   "source": [
    "#replace each comma with nothing \n",
    "movies['Gross'] = movies ['Gross'].str.replace(',','')\n",
    "movies \n"
   ]
  },
  {
   "cell_type": "code",
   "execution_count": 300,
   "id": "55ff8c28",
   "metadata": {},
   "outputs": [
    {
     "name": "stderr",
     "output_type": "stream",
     "text": [
      "C:\\Users\\IDEAL INFO\\AppData\\Local\\Temp\\ipykernel_22260\\3870910997.py:3: FutureWarning: A value is trying to be set on a copy of a DataFrame or Series through chained assignment using an inplace method.\n",
      "The behavior will change in pandas 3.0. This inplace method will never work because the intermediate object on which we are setting values always behaves as a copy.\n",
      "\n",
      "For example, when doing 'df[col].method(value, inplace=True)', try using 'df.method({col: value}, inplace=True)' or df[col] = df[col].method(value) instead, to perform the operation inplace on the original object.\n",
      "\n",
      "\n",
      "  movies['Gross'].fillna(0, inplace=True)\n"
     ]
    },
    {
     "data": {
      "text/html": [
       "<div>\n",
       "<style scoped>\n",
       "    .dataframe tbody tr th:only-of-type {\n",
       "        vertical-align: middle;\n",
       "    }\n",
       "\n",
       "    .dataframe tbody tr th {\n",
       "        vertical-align: top;\n",
       "    }\n",
       "\n",
       "    .dataframe thead th {\n",
       "        text-align: right;\n",
       "    }\n",
       "</style>\n",
       "<table border=\"1\" class=\"dataframe\">\n",
       "  <thead>\n",
       "    <tr style=\"text-align: right;\">\n",
       "      <th></th>\n",
       "      <th>Series_Title</th>\n",
       "      <th>Released_Year</th>\n",
       "      <th>Genre</th>\n",
       "      <th>IMDB_Rating</th>\n",
       "      <th>No_of_Votes</th>\n",
       "      <th>Gross</th>\n",
       "    </tr>\n",
       "  </thead>\n",
       "  <tbody>\n",
       "    <tr>\n",
       "      <th>0</th>\n",
       "      <td>The Shawshank Redemption</td>\n",
       "      <td>1994</td>\n",
       "      <td>Drama</td>\n",
       "      <td>9.3</td>\n",
       "      <td>2343110</td>\n",
       "      <td>28341469</td>\n",
       "    </tr>\n",
       "    <tr>\n",
       "      <th>1</th>\n",
       "      <td>The Godfather</td>\n",
       "      <td>1972</td>\n",
       "      <td>Crime, Drama</td>\n",
       "      <td>9.2</td>\n",
       "      <td>1620367</td>\n",
       "      <td>134966411</td>\n",
       "    </tr>\n",
       "    <tr>\n",
       "      <th>2</th>\n",
       "      <td>The Dark Knight</td>\n",
       "      <td>2008</td>\n",
       "      <td>Action, Crime, Drama</td>\n",
       "      <td>9.0</td>\n",
       "      <td>2303232</td>\n",
       "      <td>534858444</td>\n",
       "    </tr>\n",
       "    <tr>\n",
       "      <th>3</th>\n",
       "      <td>The Godfather: Part II</td>\n",
       "      <td>1974</td>\n",
       "      <td>Crime, Drama</td>\n",
       "      <td>9.0</td>\n",
       "      <td>1129952</td>\n",
       "      <td>57300000</td>\n",
       "    </tr>\n",
       "    <tr>\n",
       "      <th>4</th>\n",
       "      <td>12 Angry Men</td>\n",
       "      <td>1957</td>\n",
       "      <td>Crime, Drama</td>\n",
       "      <td>9.0</td>\n",
       "      <td>689845</td>\n",
       "      <td>4360000</td>\n",
       "    </tr>\n",
       "    <tr>\n",
       "      <th>...</th>\n",
       "      <td>...</td>\n",
       "      <td>...</td>\n",
       "      <td>...</td>\n",
       "      <td>...</td>\n",
       "      <td>...</td>\n",
       "      <td>...</td>\n",
       "    </tr>\n",
       "    <tr>\n",
       "      <th>995</th>\n",
       "      <td>Breakfast at Tiffany's</td>\n",
       "      <td>1961</td>\n",
       "      <td>Comedy, Drama, Romance</td>\n",
       "      <td>7.6</td>\n",
       "      <td>166544</td>\n",
       "      <td>0</td>\n",
       "    </tr>\n",
       "    <tr>\n",
       "      <th>996</th>\n",
       "      <td>Giant</td>\n",
       "      <td>1956</td>\n",
       "      <td>Drama, Western</td>\n",
       "      <td>7.6</td>\n",
       "      <td>34075</td>\n",
       "      <td>0</td>\n",
       "    </tr>\n",
       "    <tr>\n",
       "      <th>997</th>\n",
       "      <td>From Here to Eternity</td>\n",
       "      <td>1953</td>\n",
       "      <td>Drama, Romance, War</td>\n",
       "      <td>7.6</td>\n",
       "      <td>43374</td>\n",
       "      <td>30500000</td>\n",
       "    </tr>\n",
       "    <tr>\n",
       "      <th>998</th>\n",
       "      <td>Lifeboat</td>\n",
       "      <td>1944</td>\n",
       "      <td>Drama, War</td>\n",
       "      <td>7.6</td>\n",
       "      <td>26471</td>\n",
       "      <td>0</td>\n",
       "    </tr>\n",
       "    <tr>\n",
       "      <th>999</th>\n",
       "      <td>The 39 Steps</td>\n",
       "      <td>1935</td>\n",
       "      <td>Crime, Mystery, Thriller</td>\n",
       "      <td>7.6</td>\n",
       "      <td>51853</td>\n",
       "      <td>0</td>\n",
       "    </tr>\n",
       "  </tbody>\n",
       "</table>\n",
       "<p>1000 rows × 6 columns</p>\n",
       "</div>"
      ],
      "text/plain": [
       "                 Series_Title Released_Year                     Genre  \\\n",
       "0    The Shawshank Redemption          1994                     Drama   \n",
       "1               The Godfather          1972              Crime, Drama   \n",
       "2             The Dark Knight          2008      Action, Crime, Drama   \n",
       "3      The Godfather: Part II          1974              Crime, Drama   \n",
       "4                12 Angry Men          1957              Crime, Drama   \n",
       "..                        ...           ...                       ...   \n",
       "995    Breakfast at Tiffany's          1961    Comedy, Drama, Romance   \n",
       "996                     Giant          1956            Drama, Western   \n",
       "997     From Here to Eternity          1953       Drama, Romance, War   \n",
       "998                  Lifeboat          1944                Drama, War   \n",
       "999              The 39 Steps          1935  Crime, Mystery, Thriller   \n",
       "\n",
       "     IMDB_Rating  No_of_Votes      Gross  \n",
       "0            9.3      2343110   28341469  \n",
       "1            9.2      1620367  134966411  \n",
       "2            9.0      2303232  534858444  \n",
       "3            9.0      1129952   57300000  \n",
       "4            9.0       689845    4360000  \n",
       "..           ...          ...        ...  \n",
       "995          7.6       166544          0  \n",
       "996          7.6        34075          0  \n",
       "997          7.6        43374   30500000  \n",
       "998          7.6        26471          0  \n",
       "999          7.6        51853          0  \n",
       "\n",
       "[1000 rows x 6 columns]"
      ]
     },
     "execution_count": 300,
     "metadata": {},
     "output_type": "execute_result"
    }
   ],
   "source": [
    "#convert data into an integer so we can use it as numeric data \n",
    "# and all null values replaced by 0 . \n",
    "movies['Gross'].fillna(0, inplace=True)\n",
    "movies['Gross']  = movies['Gross'] .astype ('int64')\n",
    "movies"
   ]
  },
  {
   "cell_type": "code",
   "execution_count": 303,
   "id": "25aa8123",
   "metadata": {},
   "outputs": [
    {
     "data": {
      "text/html": [
       "<div>\n",
       "<style scoped>\n",
       "    .dataframe tbody tr th:only-of-type {\n",
       "        vertical-align: middle;\n",
       "    }\n",
       "\n",
       "    .dataframe tbody tr th {\n",
       "        vertical-align: top;\n",
       "    }\n",
       "\n",
       "    .dataframe thead th {\n",
       "        text-align: right;\n",
       "    }\n",
       "</style>\n",
       "<table border=\"1\" class=\"dataframe\">\n",
       "  <thead>\n",
       "    <tr style=\"text-align: right;\">\n",
       "      <th></th>\n",
       "      <th>IMDB_Rating</th>\n",
       "      <th>No_of_Votes</th>\n",
       "      <th>Gross</th>\n",
       "    </tr>\n",
       "  </thead>\n",
       "  <tbody>\n",
       "    <tr>\n",
       "      <th>count</th>\n",
       "      <td>1000.0</td>\n",
       "      <td>1000.0</td>\n",
       "      <td>1000.0</td>\n",
       "    </tr>\n",
       "    <tr>\n",
       "      <th>mean</th>\n",
       "      <td>8.0</td>\n",
       "      <td>273693.0</td>\n",
       "      <td>56536878.0</td>\n",
       "    </tr>\n",
       "    <tr>\n",
       "      <th>std</th>\n",
       "      <td>0.0</td>\n",
       "      <td>327373.0</td>\n",
       "      <td>103238179.0</td>\n",
       "    </tr>\n",
       "    <tr>\n",
       "      <th>min</th>\n",
       "      <td>8.0</td>\n",
       "      <td>25088.0</td>\n",
       "      <td>0.0</td>\n",
       "    </tr>\n",
       "    <tr>\n",
       "      <th>25%</th>\n",
       "      <td>8.0</td>\n",
       "      <td>55526.0</td>\n",
       "      <td>445710.0</td>\n",
       "    </tr>\n",
       "    <tr>\n",
       "      <th>50%</th>\n",
       "      <td>8.0</td>\n",
       "      <td>138548.0</td>\n",
       "      <td>10702752.0</td>\n",
       "    </tr>\n",
       "    <tr>\n",
       "      <th>75%</th>\n",
       "      <td>8.0</td>\n",
       "      <td>374161.0</td>\n",
       "      <td>61539891.0</td>\n",
       "    </tr>\n",
       "    <tr>\n",
       "      <th>max</th>\n",
       "      <td>9.0</td>\n",
       "      <td>2343110.0</td>\n",
       "      <td>936662225.0</td>\n",
       "    </tr>\n",
       "  </tbody>\n",
       "</table>\n",
       "</div>"
      ],
      "text/plain": [
       "       IMDB_Rating  No_of_Votes        Gross\n",
       "count       1000.0       1000.0       1000.0\n",
       "mean           8.0     273693.0   56536878.0\n",
       "std            0.0     327373.0  103238179.0\n",
       "min            8.0      25088.0          0.0\n",
       "25%            8.0      55526.0     445710.0\n",
       "50%            8.0     138548.0   10702752.0\n",
       "75%            8.0     374161.0   61539891.0\n",
       "max            9.0    2343110.0  936662225.0"
      ]
     },
     "execution_count": 303,
     "metadata": {},
     "output_type": "execute_result"
    }
   ],
   "source": [
    "# now gross is available because we changed his type as a numeric one  \n",
    "movies.describe().round() "
   ]
  },
  {
   "cell_type": "code",
   "execution_count": 306,
   "id": "7f394dc0",
   "metadata": {},
   "outputs": [
    {
     "data": {
      "text/plain": [
       "Series_Title     1000\n",
       "Released_Year    1000\n",
       "Genre            1000\n",
       "IMDB_Rating      1000\n",
       "No_of_Votes      1000\n",
       "Gross            1000\n",
       "dtype: int64"
      ]
     },
     "execution_count": 306,
     "metadata": {},
     "output_type": "execute_result"
    }
   ],
   "source": [
    "#we can use movies.count to get the total of all the elments \n",
    "movies.count()\n"
   ]
  },
  {
   "cell_type": "code",
   "execution_count": 317,
   "id": "0d4e454e",
   "metadata": {},
   "outputs": [
    {
     "data": {
      "text/plain": [
       "IMDB_Rating           8.0\n",
       "No_of_Votes      273693.0\n",
       "Gross          56536878.0\n",
       "dtype: float64"
      ]
     },
     "execution_count": 317,
     "metadata": {},
     "output_type": "execute_result"
    }
   ],
   "source": [
    "#calculate the avg for numerical types only \n",
    "movies.mean(numeric_only=True).round()"
   ]
  },
  {
   "cell_type": "code",
   "execution_count": 318,
   "id": "b7d1f2b8",
   "metadata": {},
   "outputs": [
    {
     "data": {
      "text/plain": [
       "IMDB_Rating            9.0\n",
       "No_of_Votes      2343110.0\n",
       "Gross          936662225.0\n",
       "dtype: float64"
      ]
     },
     "execution_count": 318,
     "metadata": {},
     "output_type": "execute_result"
    }
   ],
   "source": [
    "#calculate the max for numerical types only \n",
    "\n",
    "movies.max(numeric_only=True).round()"
   ]
  },
  {
   "cell_type": "code",
   "execution_count": 321,
   "id": "b3335098",
   "metadata": {},
   "outputs": [
    {
     "data": {
      "text/plain": [
       "IMDB_Rating        8.0\n",
       "No_of_Votes    25088.0\n",
       "Gross              0.0\n",
       "dtype: float64"
      ]
     },
     "execution_count": 321,
     "metadata": {},
     "output_type": "execute_result"
    }
   ],
   "source": [
    "#calculate the min for numerical types only \n",
    "movies.min(numeric_only=True).round()"
   ]
  },
  {
   "cell_type": "code",
   "execution_count": 323,
   "id": "16e6ec2b",
   "metadata": {},
   "outputs": [
    {
     "data": {
      "text/plain": [
       "IMDB_Rating           7.9\n",
       "No_of_Votes      138548.5\n",
       "Gross          10702751.5\n",
       "Name: 0.5, dtype: float64"
      ]
     },
     "execution_count": 323,
     "metadata": {},
     "output_type": "execute_result"
    }
   ],
   "source": [
    "#we defined the quantile to be 50% \n",
    "movies.quantile(q=.5,numeric_only=True).round(2)"
   ]
  },
  {
   "cell_type": "code",
   "execution_count": 328,
   "id": "52dc7b8b",
   "metadata": {},
   "outputs": [
    {
     "data": {
      "text/html": [
       "<div>\n",
       "<style scoped>\n",
       "    .dataframe tbody tr th:only-of-type {\n",
       "        vertical-align: middle;\n",
       "    }\n",
       "\n",
       "    .dataframe tbody tr th {\n",
       "        vertical-align: top;\n",
       "    }\n",
       "\n",
       "    .dataframe thead th {\n",
       "        text-align: right;\n",
       "    }\n",
       "</style>\n",
       "<table border=\"1\" class=\"dataframe\">\n",
       "  <thead>\n",
       "    <tr style=\"text-align: right;\">\n",
       "      <th></th>\n",
       "      <th>Series_Title</th>\n",
       "      <th>Released_Year</th>\n",
       "      <th>Genre</th>\n",
       "    </tr>\n",
       "  </thead>\n",
       "  <tbody>\n",
       "    <tr>\n",
       "      <th>count</th>\n",
       "      <td>1000</td>\n",
       "      <td>1000</td>\n",
       "      <td>1000</td>\n",
       "    </tr>\n",
       "    <tr>\n",
       "      <th>unique</th>\n",
       "      <td>999</td>\n",
       "      <td>100</td>\n",
       "      <td>202</td>\n",
       "    </tr>\n",
       "    <tr>\n",
       "      <th>top</th>\n",
       "      <td>Drishyam</td>\n",
       "      <td>2014</td>\n",
       "      <td>Drama</td>\n",
       "    </tr>\n",
       "    <tr>\n",
       "      <th>freq</th>\n",
       "      <td>2</td>\n",
       "      <td>32</td>\n",
       "      <td>85</td>\n",
       "    </tr>\n",
       "  </tbody>\n",
       "</table>\n",
       "</div>"
      ],
      "text/plain": [
       "       Series_Title Released_Year  Genre\n",
       "count          1000          1000   1000\n",
       "unique          999           100    202\n",
       "top        Drishyam          2014  Drama\n",
       "freq              2            32     85"
      ]
     },
     "execution_count": 328,
     "metadata": {},
     "output_type": "execute_result"
    }
   ],
   "source": [
    "#we include the string type in our rslt \n",
    "#except this time it's going to be recording the  strings .\n",
    "movies.describe(include=['O'])"
   ]
  },
  {
   "cell_type": "code",
   "execution_count": null,
   "id": "ba0486f5",
   "metadata": {},
   "outputs": [],
   "source": []
  }
 ],
 "metadata": {
  "kernelspec": {
   "display_name": ".venv",
   "language": "python",
   "name": "python3"
  },
  "language_info": {
   "codemirror_mode": {
    "name": "ipython",
    "version": 3
   },
   "file_extension": ".py",
   "mimetype": "text/x-python",
   "name": "python",
   "nbconvert_exporter": "python",
   "pygments_lexer": "ipython3",
   "version": "3.13.5"
  }
 },
 "nbformat": 4,
 "nbformat_minor": 5
}
